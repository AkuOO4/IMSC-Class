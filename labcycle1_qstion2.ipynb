{
  "nbformat": 4,
  "nbformat_minor": 0,
  "metadata": {
    "colab": {
      "name": "labcycle1_qstion2.ipynb",
      "provenance": [],
      "collapsed_sections": [],
      "authorship_tag": "ABX9TyMret4Hz2jjtMUOWYlUL8V2",
      "include_colab_link": true
    },
    "kernelspec": {
      "name": "python3",
      "display_name": "Python 3"
    },
    "language_info": {
      "name": "python"
    }
  },
  "cells": [
    {
      "cell_type": "markdown",
      "metadata": {
        "id": "view-in-github",
        "colab_type": "text"
      },
      "source": [
        "<a href=\"https://colab.research.google.com/github/AkuOO4/python-lab/blob/main/labcycle1_qstion2.ipynb\" target=\"_parent\"><img src=\"https://colab.research.google.com/assets/colab-badge.svg\" alt=\"Open In Colab\"/></a>"
      ]
    },
    {
      "cell_type": "markdown",
      "source": [
        "2. Develop a program to read the three sides of two triangles and calculate the area of both. Define a function to read the three sides and call it. Also, define a function to calculate the area. Print the total area enclosed by both triangles and each triangle's contribution (%) towards it."
      ],
      "metadata": {
        "id": "NRxd94hfNlHt"
      }
    },
    {
      "cell_type": "code",
      "execution_count": null,
      "metadata": {
        "colab": {
          "base_uri": "https://localhost:8080/"
        },
        "id": "jprr0w-kM2iu",
        "outputId": "389dc349-71d0-47dd-e1ed-b00af16c7b0f"
      },
      "outputs": [
        {
          "output_type": "stream",
          "name": "stdout",
          "text": [
            "enter side 15\n",
            "enter side 26\n",
            "enter side 38\n",
            "9.5\n",
            "area is 14.981238266578634\n",
            "enter side 16\n",
            "enter side 28\n",
            "enter side 34\n",
            "9.0\n",
            "area is 11.61895003862225\n",
            "contribution of 1st trinagle= 56 %\n",
            "contribution of 2nt trinagle= 43 %\n"
          ]
        }
      ],
      "source": [
        "def get_side(): # defining a function to get the to get the sides\n",
        "  a=int(input(\"enter side 1\"))\n",
        "  b=int(input(\"enter side 2\"))\n",
        "  c=int(input(\"enter side 3\"))\n",
        "  return a,b,c\n",
        "def area(): # defining a function find the area\n",
        "  a,b,c=get_side()\n",
        "  s=(a+b+c)/2\n",
        "  print(s)\n",
        "  area=(s*(s-a)*(s-b)*(s-c))**0.5\n",
        "  print(\"area is\",area)\n",
        "  return area\n",
        "def contribution():  # defining a function find the contribution of both triangles\n",
        "  area1=area()\n",
        "  area2=area()\n",
        "  contri1=100*(area1/(area1+area2))\n",
        "\n",
        "  contri2=100-contri1\n",
        "  print(\"contribution of 1st trinagle=\",int(contri1),\"%\\n\"+\"contribution of 2nt trinagle=\",int(contri2),\"%\",)\n",
        "\n",
        "contribution()#calling the function\n"
      ]
    }
  ]
}