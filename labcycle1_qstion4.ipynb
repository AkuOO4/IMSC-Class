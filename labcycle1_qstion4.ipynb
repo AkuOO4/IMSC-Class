{
  "nbformat": 4,
  "nbformat_minor": 0,
  "metadata": {
    "colab": {
      "name": "labcycle1_qstion4.ipynb",
      "provenance": [],
      "collapsed_sections": [],
      "authorship_tag": "ABX9TyMfohFjG10qpcGYWknLPq5X",
      "include_colab_link": true
    },
    "kernelspec": {
      "name": "python3",
      "display_name": "Python 3"
    },
    "language_info": {
      "name": "python"
    }
  },
  "cells": [
    {
      "cell_type": "markdown",
      "metadata": {
        "id": "view-in-github",
        "colab_type": "text"
      },
      "source": [
        "<a href=\"https://colab.research.google.com/github/AkuOO4/python-lab/blob/main/labcycle1_qstion4.ipynb\" target=\"_parent\"><img src=\"https://colab.research.google.com/assets/colab-badge.svg\" alt=\"Open In Colab\"/></a>"
      ]
    },
    {
      "cell_type": "markdown",
      "source": [
        "3. Develop a program to perform the following task  \n",
        "a. Define a function to check whether a number is happy or not.   \n",
        "b. Define a function to print all happy numbers within a range.   \n",
        "c. Define a function to print first N happy numbers.  "
      ],
      "metadata": {
        "id": "yF7CslNYmbQs"
      }
    },
    {
      "cell_type": "code",
      "execution_count": null,
      "metadata": {
        "id": "U-40bVY8mU18",
        "colab": {
          "base_uri": "https://localhost:8080/"
        },
        "outputId": "142b40b2-c018-4a5f-8b57-47d33771dec3"
      },
      "outputs": [
        {
          "output_type": "stream",
          "name": "stdout",
          "text": [
            "enter the n to check for first n happy numbers 10\n",
            "First N happy numbers are\t [1, 7, 10, 13, 19, 23, 28, 31, 32, 44]\n"
          ]
        }
      ],
      "source": [
        "def check_happy(n):  #function to check if the given number is happy\n",
        "  sqr=sum=0\n",
        "  status=\"sad\"\n",
        "  for i in range(100):\n",
        "    while n>0:\n",
        "      dig=n%10\n",
        "      sqr=dig**2\n",
        "      sum+=sqr\n",
        "      n=n//10\n",
        "\n",
        "    \n",
        "    if sum==1:\n",
        "      status=\"happy\"\n",
        "      break\n",
        "    else:\n",
        "      n=sum  \n",
        "      sum=0\n",
        "  return status\n",
        "\n",
        "def happy_range(start,stop):   #function to check if the numbers within a range y is happy\n",
        "  happy_nums=[]\n",
        "  for i in range(start,stop):\n",
        "    status=check_happy(i)\n",
        "    if status==\"happy\":\n",
        "      happy_nums.append(i)\n",
        "  return happy_nums\n",
        "\n",
        "\n",
        "def n_happy(n):     #function to check if the numbers until N is happy \n",
        "  happy_nums=[]\n",
        "  i=1\n",
        "  happy_ct=0\n",
        "  while happy_ct<n:\n",
        "    status=check_happy(i)\n",
        "    if status==\"happy\":\n",
        "      happy_nums.append(i)\n",
        "      happy_ct+=1\n",
        "    i+=1\n",
        "    \n",
        "  return happy_nums\n",
        "\n",
        "\n",
        "num=int(input(\"enter the number to check if \"))\n",
        "print(num,\" is \",check_happy(num))\n",
        "\n",
        "\n",
        "start=int(input(\"enter the start to check: \"))\n",
        "stop=int(input(\"enter the end to check: \"))\n",
        "print(\"happy numbers from \",start,\"and\",stop,\"are: \",happy_range(start,stop))\n",
        "\n",
        "\n",
        "n=int(input(\"enter the n to check for first n happy numbers \"))\n",
        "print(\"First N happy numbers are\\t\",n_happy(n))"
      ]
    }
  ]
}