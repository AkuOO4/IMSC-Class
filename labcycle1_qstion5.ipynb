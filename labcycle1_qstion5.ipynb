{
  "nbformat": 4,
  "nbformat_minor": 0,
  "metadata": {
    "colab": {
      "name": "labcycle1_qstion5.ipynb",
      "provenance": [],
      "collapsed_sections": [],
      "authorship_tag": "ABX9TyN8FKuWxLpuHZCwKku9lLeD",
      "include_colab_link": true
    },
    "kernelspec": {
      "name": "python3",
      "display_name": "Python 3"
    },
    "language_info": {
      "name": "python"
    }
  },
  "cells": [
    {
      "cell_type": "markdown",
      "metadata": {
        "id": "view-in-github",
        "colab_type": "text"
      },
      "source": [
        "<a href=\"https://colab.research.google.com/github/AkuOO4/python-lab/blob/main/labcycle1_qstion5.ipynb\" target=\"_parent\"><img src=\"https://colab.research.google.com/assets/colab-badge.svg\" alt=\"Open In Colab\"/></a>"
      ]
    },
    {
      "cell_type": "markdown",
      "source": [
        "\n",
        "5. Develop a program to read a string and perform the following \n",
        "operations:\n",
        "*   Print all possible substring \n",
        "*   Print all possible substrings of length K\n",
        "*   Print all possible substrings of length K with N distinct \n",
        "characters\n",
        "* Print substring(s) of length maximum length with N distinct \n",
        "characters.\n",
        "* Print all palindrome substrings \n",
        "\n",
        "\n"
      ],
      "metadata": {
        "id": "sgUW6wZ--r09"
      }
    },
    {
      "cell_type": "code",
      "execution_count": null,
      "metadata": {
        "id": "A2CkD35H7gXP",
        "colab": {
          "base_uri": "https://localhost:8080/"
        },
        "outputId": "266037c1-35bc-42a2-f56e-b272abfcf926"
      },
      "outputs": [
        {
          "output_type": "stream",
          "name": "stdout",
          "text": [
            "enter a string: abcac\n",
            "['a', 'ab', 'abc', 'abca', 'abcac', 'b', 'bc', 'bca', 'bcac', 'c', 'ca', 'cac', 'a', 'ac', 'c']\n",
            "enter the length of strings to be printed: 3\n",
            "['abc', 'bca', 'cac']\n",
            "enter the number of distinct characters needed: 3\n",
            "['abc', 'bca']\n",
            "enter length maximum length with N distinct characters: 3\n",
            "abcac None\n",
            "palindrome numbers are:\n",
            "\n",
            "a b c cac a c "
          ]
        },
        {
          "output_type": "execute_result",
          "data": {
            "text/plain": [
              "[]"
            ]
          },
          "metadata": {},
          "execution_count": 11
        }
      ],
      "source": [
        "def poss_strings(string,length):#1   #function to print all possible substrings\n",
        "  i=0  \n",
        "  lst=[]\n",
        "  while i<=length+1:\n",
        "    j=i+1\n",
        "    while j<=length:\n",
        "      lst.append(string[i:j])\n",
        "      j+=1\n",
        "    i+=1\n",
        "  return lst\n",
        "\n",
        "def sub_strings(string,length):#2   #function to  Print all possible substrings of length K\n",
        "  i=0  \n",
        "  lst=[]\n",
        "  while i<=len(string):\n",
        "    j=i+1\n",
        "    while j<=len(string):\n",
        "      if len(string[i:j])==length:\n",
        "        lst.append(string[i:j])\n",
        "      j+=1\n",
        "    i+=1\n",
        "  return lst\n",
        "  \n",
        "def distinct_char(string,length,n):#3  functio to Print all possible substrings of length K with N distinct characters\n",
        "  lst=sub_strings(string,length)\n",
        "  distinct_lst_n_char=[]\n",
        "  i=0\n",
        "  while i<=len(lst):\n",
        "    j=i+1\n",
        "    while j<=len(string):\n",
        "      lst=(string[i:j])\n",
        "      if (len(lst)==k and len(set(lst))==n):\n",
        "        distinct_lst_n_char.append(lst)\n",
        "      j+=1  \n",
        "    i+=1\n",
        "  return distinct_lst_n_char\n",
        "\n",
        "def max_dist(n,string): #4 # function Print substring(s) of length maximum length with N distinct characters.\n",
        "  lst=[]\n",
        "  returner=[]\n",
        "  i=0\n",
        "  while i<=len(string):\n",
        "    j=i+1\n",
        "    while j<=len(string):\n",
        "      s=string[i:j]\n",
        "      if(len(set(s))==n):\n",
        "        lst.append(s)\n",
        "      j+=1\n",
        "    i+=1\n",
        "  maxi=len(max(lst,key=len))\n",
        "  k=0\n",
        "  while k<len(lst):\n",
        "    if(len(lst[k])==maxi):\n",
        "      print(lst[k],end=\" \")\n",
        "    k+=1\n",
        "\n",
        "\n",
        "def palin(string):#5  #function to check for palin\n",
        "  lst=[]\n",
        "  i=0\n",
        "  while i<=len(string):\n",
        "    j=i+1\n",
        "    while j<=len(string):\n",
        "      s=string[i:j]\n",
        "      temp=s[::-1]\n",
        "      if(s==temp):\n",
        "        print(s,end=\" \")\n",
        "      j+=1\n",
        "    i+=1\n",
        "  return lst\n",
        "\n",
        "string=str(input(\"enter a string: \")) #all possible substring\n",
        "print(poss_strings(string,len(string)))\n",
        "\n",
        "k=int(input(\"enter the length of strings to be printed: \"))\n",
        "print(sub_strings(string,k))\n",
        "\n",
        "n=int(input(\"enter the number of distinct characters needed: \"))\n",
        "print(distinct_char(string,k,n))\n",
        "\n",
        "maxi=int(input(\"enter length maximum length with N distinct characters: \"))\n",
        "print(max_dist(maxi,string))\n",
        "\n",
        "print(\"palindrome numbers are:\\n\")\n",
        "palin(string)"
      ]
    }
  ]
}