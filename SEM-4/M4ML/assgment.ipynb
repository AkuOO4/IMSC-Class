{
 "cells": [
  {
   "cell_type": "code",
   "execution_count": 1,
   "metadata": {},
   "outputs": [],
   "source": [
    "import numpy as np"
   ]
  },
  {
   "attachments": {},
   "cell_type": "markdown",
   "metadata": {},
   "source": [
    "Matrix "
   ]
  },
  {
   "cell_type": "code",
   "execution_count": 9,
   "metadata": {},
   "outputs": [
    {
     "name": "stdout",
     "output_type": "stream",
     "text": [
      "3\n",
      "2\n"
     ]
    }
   ],
   "source": [
    "M = [[0, 2, 1, 4],  [1, 1, 2, 6],   [2, 1, 1, 7]]\n",
    "print(np.size(M,0))\n",
    "#M[0],M[1]=M[1],M[0]\n",
    "print(M[0][1])"
   ]
  },
  {
   "attachments": {},
   "cell_type": "markdown",
   "metadata": {},
   "source": [
    "Guass Jordan"
   ]
  },
  {
   "cell_type": "code",
   "execution_count": null,
   "metadata": {},
   "outputs": [],
   "source": [
    "def gauss_jordan(M):\n",
    "    x=np.size(M,0)\n",
    "    y=np.size(M,1)\n",
    "\n",
    "    if (M[0],[0]==0):\n",
    "        M[0],M[1]=M[1],M[0]\n",
    "\n",
    "    for i in range(x):\n",
    "        for j in range(x):\n",
    "            k=M[i][i-1]/M[i][i]\n",
    "    \n"
   ]
  },
  {
   "attachments": {},
   "cell_type": "markdown",
   "metadata": {},
   "source": [
    "google guass jordan"
   ]
  },
  {
   "cell_type": "code",
   "execution_count": 5,
   "metadata": {},
   "outputs": [
    {
     "name": "stdout",
     "output_type": "stream",
     "text": [
      "Final Augmented Matrix is : \n",
      "1.0 0.0 0.0 2.2\n",
      "0.0 2.0 0.0 2.8\n",
      "0.0 0.0 -2.5 -3.0\n",
      "\n",
      "Result is : \n",
      "2.2 1.4 1.2 "
     ]
    }
   ],
   "source": [
    "# Python3 Implementation for Gauss-Jordan\n",
    "# Elimination Method\n",
    "M = 10\n",
    "\n",
    "# Function to print the matrix\n",
    "def PrintMatrix(a, n):\n",
    "\tfor i in range(n):\n",
    "\t\tprint(*a[i])\n",
    "\n",
    "# function to reduce matrix to reduced\n",
    "# row echelon form.\n",
    "def PerformOperation(a, n):\n",
    "\ti = 0\n",
    "\tj = 0\n",
    "\tk = 0\n",
    "\tc = 0\n",
    "\tflag = 0\n",
    "\tm = 0\n",
    "\tpro = 0\n",
    "\n",
    "\t# Performing elementary operations\n",
    "\tfor i in range(n):\n",
    "\t\tif (a[i][i] == 0):\n",
    "\n",
    "\t\t\tc = 1\n",
    "\t\t\twhile ((i + c) < n and a[i + c][i] == 0):\n",
    "\t\t\t\tc += 1\n",
    "\t\t\tif ((i + c) == n):\n",
    "\n",
    "\t\t\t\tflag = 1\n",
    "\t\t\t\tbreak\n",
    "\n",
    "\t\t\tj = i\n",
    "\t\t\tfor k in range(1 + n):\n",
    "\n",
    "\t\t\t\ttemp = a[j][k]\n",
    "\t\t\t\ta[j][k] = a[j+c][k]\n",
    "\t\t\t\ta[j+c][k] = temp\n",
    "\n",
    "\t\tfor j in range(n):\n",
    "\n",
    "\t\t\t# Excluding all i == j\n",
    "\t\t\tif (i != j):\n",
    "\t\t\t\t# Converting Matrix to reduced row\n",
    "\t\t\t\t# echelon form(diagonal matrix)\n",
    "\t\t\t\tp = a[j][i] / a[i][i]\n",
    "\n",
    "\t\t\t\tk = 0\n",
    "\t\t\t\tfor k in range(n + 1):\n",
    "\t\t\t\t\ta[j][k] = a[j][k] - (a[i][k]) * p\n",
    "\n",
    "\treturn flag\n",
    "\n",
    "# Function to print the desired result\n",
    "# if unique solutions exists, otherwise\n",
    "# prints no solution or infinite solutions\n",
    "# depending upon the input given.\n",
    "def PrintResult(a, n, flag):\n",
    "\n",
    "\tprint(\"Result is : \")\n",
    "\n",
    "\tif (flag == 2):\n",
    "\t\tprint(\"Infinite Solutions Exists<br>\")\n",
    "\telif (flag == 3):\n",
    "\t\tprint(\"No Solution Exists<br>\")\n",
    "\n",
    "\t# Printing the solution by dividing constants by\n",
    "\t# their respective diagonal elements\n",
    "\telse:\n",
    "\t\tfor i in range(n):\n",
    "\t\t\tprint(a[i][n] / a[i][i], end=\" \")\n",
    "\n",
    "# To check whether infinite solutions\n",
    "# exists or no solution exists\n",
    "def CheckConsistency(a, n, flag):\n",
    "\n",
    "\t# flag == 2 for infinite solution\n",
    "\t# flag == 3 for No solution\n",
    "\tflag = 3\n",
    "\tfor i in range(n):\n",
    "\t\tsum = 0\n",
    "\t\tfor j in range(n):\n",
    "\t\t\tsum = sum + a[i][j]\n",
    "\t\tif (sum == a[i][j]):\n",
    "\t\t\tflag = 2\n",
    "\n",
    "\treturn flag\n",
    "\n",
    "# Driver code\n",
    "a = [[0, 2, 1, 4], [1, 1, 2, 6], [2, 1, 1, 7]]\n",
    "\n",
    "# Order of Matrix(n)\n",
    "n = 3\n",
    "flag = 0\n",
    "\n",
    "# Performing Matrix transformation\n",
    "flag = PerformOperation(a, n)\n",
    "\n",
    "if (flag == 1):\n",
    "\tflag = CheckConsistency(a, n, flag)\n",
    "\n",
    "# Printing Final Matrix\n",
    "print(\"Final Augmented Matrix is : \")\n",
    "PrintMatrix(a, n)\n",
    "print()\n",
    "\n",
    "# Printing Solutions(if exist)\n",
    "PrintResult(a, n, flag)\n",
    "\n",
    "# This code is contributed by phasing17\n"
   ]
  },
  {
   "attachments": {},
   "cell_type": "markdown",
   "metadata": {},
   "source": [
    "gauss siedel"
   ]
  },
  {
   "cell_type": "code",
   "execution_count": 8,
   "metadata": {},
   "outputs": [
    {
     "name": "stdout",
     "output_type": "stream",
     "text": [
      "[0, 0, 0]\n",
      "[1.0, 0.8, 0.39999999999999997]\n",
      "[0.6000000000000001, 0.9599999999999997, 0.48000000000000004]\n",
      "[0.52, 0.9919999999999998, 0.49600000000000005]\n",
      "[0.504, 0.9983999999999998, 0.4992000000000001]\n",
      "[0.5008, 0.99968, 0.49984]\n",
      "[0.5001599999999999, 0.9999360000000002, 0.4999679999999999]\n",
      "[0.500032, 0.9999872, 0.4999936]\n",
      "[0.5000064, 0.9999974400000001, 0.49999871999999995]\n",
      "[0.50000128, 0.999999488, 0.4999997439999999]\n",
      "[0.500000256, 0.9999998976000001, 0.49999994880000004]\n",
      "[0.5000000512, 0.9999999795199999, 0.4999999897600001]\n",
      "[0.50000001024, 0.999999995904, 0.499999997952]\n",
      "[0.500000002048, 0.9999999991808, 0.49999999959040003]\n",
      "[0.5000000004095999, 0.9999999998361601, 0.49999999991808003]\n",
      "[0.50000000008192, 0.9999999999672321, 0.49999999998361594]\n",
      "[0.500000000016384, 0.9999999999934465, 0.49999999999672307]\n",
      "[0.5000000000032768, 0.9999999999986894, 0.4999999999993445]\n",
      "[0.5000000000006554, 0.9999999999997378, 0.49999999999986894]\n",
      "[0.500000000000131, 0.9999999999999478, 0.49999999999997374]\n",
      "[0.5000000000000262, 0.9999999999999897, 0.49999999999999467]\n",
      "[0.5000000000000052, 0.9999999999999979, 0.49999999999999895]\n",
      "[0.5000000000000011, 0.9999999999999994, 0.49999999999999983]\n",
      "[0.5000000000000002, 0.9999999999999998, 0.5000000000000001]\n",
      "[0.49999999999999994, 1.0, 0.5]\n",
      "[0.5, 1.0, 0.5]\n"
     ]
    }
   ],
   "source": [
    "# Defining our function as seidel which takes 3 arguments\n",
    "# as A matrix, Solution and B matrix\n",
    "\n",
    "def seidel(a, x ,b):\n",
    "\t#Finding length of a(3)\t\n",
    "\tn = len(a)\t\t\t\t\n",
    "\t# for loop for 3 times as to calculate x, y , z\n",
    "\tfor j in range(0, n):\t\t\n",
    "\t\t# temp variable d to store b[j]\n",
    "\t\td = b[j]\t\t\t\t\n",
    "\t\t\n",
    "\t\t# to calculate respective xi, yi, zi\n",
    "\t\tfor i in range(0, n):\t\n",
    "\t\t\tif(j != i):\n",
    "\t\t\t\td-=a[j][i] * x[i]\n",
    "\t\t# updating the value of our solution\t\t\n",
    "\t\tx[j] = d / a[j][j]\n",
    "\t# returning our updated solution\t\t\n",
    "\treturn x\t\n",
    "\n",
    "# int(input())input as number of variable to be solved\t\t\t\t\n",
    "n = 3\t\t\t\t\t\t\t\n",
    "a = []\t\t\t\t\t\t\t\n",
    "b = []\t\t\n",
    "# initial solution depending on n(here n=3)\t\t\t\t\t\n",
    "x = [0, 0, 0]\t\t\t\t\t\t\n",
    "a = [[4, 1, 2],[3, 5, 1],[1, 1, 3]]\n",
    "b = [4,7,3]\n",
    "print(x)\n",
    "\n",
    "#loop run for m times depending on m the error value\n",
    "for i in range(0, 25):\t\t\t\n",
    "\tx = seidel(a, x, b)\n",
    "\t#print each time the updated solution\n",
    "\tprint(x)\t\t\t\t\t\n"
   ]
  },
  {
   "attachments": {},
   "cell_type": "markdown",
   "metadata": {},
   "source": [
    "Crammers Rule"
   ]
  },
  {
   "attachments": {},
   "cell_type": "markdown",
   "metadata": {},
   "source": [
    "Source 1"
   ]
  },
  {
   "cell_type": "code",
   "execution_count": null,
   "metadata": {},
   "outputs": [],
   "source": [
    "#load necessary packages and functions\n",
    "import scipy.stats as stats\n",
    "import numpy as np\n",
    "\n",
    "#create 2x2 table\n",
    "data = np.array([ ])\n",
    "\n",
    "#Chi-squared test statistic, sample size, and minimum of rows and columns\n",
    "X2 = stats.chi2_contingency(data, correction=False)[0]\n",
    "n = np.sum(data)\n",
    "minDim = min(data.shape)-1\n",
    "\n",
    "#calculate Cramer's V \n",
    "V = np.sqrt((X2/n) / minDim)\n",
    "\n",
    "#display Cramer's V\n",
    "print(V)"
   ]
  },
  {
   "attachments": {},
   "cell_type": "markdown",
   "metadata": {},
   "source": [
    "Source 2"
   ]
  },
  {
   "cell_type": "code",
   "execution_count": 9,
   "metadata": {},
   "outputs": [
    {
     "name": "stdout",
     "output_type": "stream",
     "text": [
      "0.12181939439334678\n"
     ]
    }
   ],
   "source": [
    "# Load necessary packages and functions\n",
    "import scipy.stats as stats\n",
    "import numpy as np\n",
    "\n",
    "# Make a 3 x 3 table\n",
    "dataset = np.array([[13, 17, 11], [4, 6, 9],\n",
    "\t\t\t\t\t[20, 31, 42]])\n",
    "\n",
    "# Finding Chi-squared test statistic,\n",
    "# sample size, and minimum of rows\n",
    "# and columns\n",
    "X2 = stats.chi2_contingency(dataset, correction=False)[0]\n",
    "N = np.sum(dataset)\n",
    "minimum_dimension = min(dataset.shape)-1\n",
    "\n",
    "# Calculate Cramer's V\n",
    "result = np.sqrt((X2/N) / minimum_dimension)\n",
    "\n",
    "# Print the result\n",
    "print(result)\n"
   ]
  }
 ],
 "metadata": {
  "kernelspec": {
   "display_name": "Python 3",
   "language": "python",
   "name": "python3"
  },
  "language_info": {
   "codemirror_mode": {
    "name": "ipython",
    "version": 3
   },
   "file_extension": ".py",
   "mimetype": "text/x-python",
   "name": "python",
   "nbconvert_exporter": "python",
   "pygments_lexer": "ipython3",
   "version": "3.10.4"
  },
  "orig_nbformat": 4,
  "vscode": {
   "interpreter": {
    "hash": "437f68974123ce204a29bf9735bc6fbd43f47f09a5bd25797f42c458e97b1fbe"
   }
  }
 },
 "nbformat": 4,
 "nbformat_minor": 2
}
