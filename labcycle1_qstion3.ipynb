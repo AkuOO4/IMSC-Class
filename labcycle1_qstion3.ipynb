{
  "nbformat": 4,
  "nbformat_minor": 0,
  "metadata": {
    "colab": {
      "name": "labcycle1_qstion3.ipynb",
      "provenance": [],
      "authorship_tag": "ABX9TyPYqUuM3K2u1EFyV55UkSNb",
      "include_colab_link": true
    },
    "kernelspec": {
      "name": "python3",
      "display_name": "Python 3"
    },
    "language_info": {
      "name": "python"
    }
  },
  "cells": [
    {
      "cell_type": "markdown",
      "metadata": {
        "id": "view-in-github",
        "colab_type": "text"
      },
      "source": [
        "<a href=\"https://colab.research.google.com/github/AkuOO4/python-lab/blob/main/labcycle1_qstion3.ipynb\" target=\"_parent\"><img src=\"https://colab.research.google.com/assets/colab-badge.svg\" alt=\"Open In Colab\"/></a>"
      ]
    },
    {
      "cell_type": "markdown",
      "source": [
        "3. Develop a program to read the employee's name, code, and basic pay and calculate the gross salary, deduction, and net salary according to the following conditions. Define a function to find each of the components. Finally, generate a payslip."
      ],
      "metadata": {
        "id": "pcuuR5MfYPGn"
      }
    },
    {
      "cell_type": "code",
      "execution_count": null,
      "metadata": {
        "id": "SQk-5uYaYJkx",
        "colab": {
          "base_uri": "https://localhost:8080/"
        },
        "outputId": "c561799a-cdb3-4453-98d3-ce278d994fa8"
      },
      "outputs": [
        {
          "output_type": "stream",
          "name": "stdout",
          "text": [
            "enter employee code:\t11\n",
            "enter name:\taku\n",
            "enter employee salary:\t50000\n",
            "net salary\t 58920.0\n"
          ]
        }
      ],
      "source": [
        "def empl_det(): #getting employee details\n",
        "  code=int(input(\"enter employee code:\\t\"))\n",
        "  name=str(input(\"enter name:\\t\"))\n",
        "  sal=int(input(\"enter employee salary:\\t\"))\n",
        "  return code,name,sal\n",
        "def gross_sal(sal,da,hra,ma):  #function to get gross salary\n",
        "  gross_sal=sal+sal*(da/100)+sal*(hra/100)+ma\n",
        "  return gross_sal\n",
        "def deduction(sal,pt,pf,it):  #fuction to get salary deduction\n",
        "  deduction=pt+sal*(pf/100)+sal*(it/100)\n",
        "  return deduction\n",
        "def net_sal(sal,da,hra,ma,pt,pf,it): #fuction to get net salary\n",
        "  net_sal=gross_sal(sal,da,hra,ma)-deduction(sal,pt,pf,it)\n",
        "  print(\"net salary\\t\",net_sal)\n",
        "\n",
        "code,name,sal=empl_det()\n",
        "if sal<10000:                     # catogorising the persons salary\n",
        "  net_sal(sal,5,2.5,500,20,8,0)\n",
        "elif sal<30000:\n",
        "  net_sal(sal,7.5,5,2500,60,8,0)\n",
        "elif sal<50000:\n",
        "  net_sal(sal,11,7.5,5000,60,11,11)\n",
        "else:\n",
        "  net_sal(sal,25,11,7000,80,12,20)\n",
        "\n",
        "\n",
        "    "
      ]
    }
  ]
}