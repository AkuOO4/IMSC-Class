{
 "cells": [
  {
   "cell_type": "code",
   "execution_count": 1,
   "metadata": {},
   "outputs": [
    {
     "name": "stdout",
     "output_type": "stream",
     "text": [
      "hai\n"
     ]
    }
   ],
   "source": [
    "from pyparsing import col\n",
    "\n",
    "\n",
    "WHITE = 0\n",
    "GRAY = 1\n",
    "BLACK = 2\n",
    "\n",
    "class graph:\n",
    "    def __init__(self,M):\n",
    "        self.Mat=M\n",
    "        self.N=M.shape[0]\n",
    "        self.parent=[None for _ in range(self.N)]\n",
    "        self.color=[None for _ in range(self.N)]\n",
    "\n",
    "    def getParent(self,index):\n",
    "        return self.parent[index]\n",
    "    \n",
    "    def getColor(self,index):\n",
    "        return self.color\n",
    "\n",
    "    def set_Parent (self,index,P):\n",
    "        self.parent=P\n",
    "\n",
    "    def set_Color(self,index,color):\n",
    "        self.color=color\n",
    "\n",
    "    def getAdj(self,index):\n",
    "        adj=[]\n",
    "        for i,v in enumerate(self.Mat[index,:]):\n",
    "            if v!=0:\n",
    "                adj.append(i)\n",
    "        return adj"
   ]
  },
  {
   "cell_type": "code",
   "execution_count": null,
   "metadata": {},
   "outputs": [],
   "source": [
    "class BFS:\n",
    "    def __init__(self,G,source):\n",
    "        self.source.G=G\n",
    "        self.Q=[]\n",
    "        self.result=[]\n",
    "\n",
    "    def traverse(self):\n",
    "        for i in range(self.G.N):\n",
    "            self.G.setColor(self.source,GRAY)\n",
    "\n",
    "\n"
   ]
  }
 ],
 "metadata": {
  "kernelspec": {
   "display_name": "Python 3.10.4 64-bit",
   "language": "python",
   "name": "python3"
  },
  "language_info": {
   "codemirror_mode": {
    "name": "ipython",
    "version": 3
   },
   "file_extension": ".py",
   "mimetype": "text/x-python",
   "name": "python",
   "nbconvert_exporter": "python",
   "pygments_lexer": "ipython3",
   "version": "3.10.4"
  },
  "orig_nbformat": 4,
  "vscode": {
   "interpreter": {
    "hash": "437f68974123ce204a29bf9735bc6fbd43f47f09a5bd25797f42c458e97b1fbe"
   }
  }
 },
 "nbformat": 4,
 "nbformat_minor": 2
}
