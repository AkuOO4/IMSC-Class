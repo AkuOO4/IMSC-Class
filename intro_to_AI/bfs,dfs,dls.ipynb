{
 "cells": [
  {
   "cell_type": "code",
   "execution_count": 6,
   "metadata": {},
   "outputs": [],
   "source": [
    "# from pyparsing import col\n",
    "\n",
    "\n",
    "WHITE = 0\n",
    "GRAY = 1\n",
    "BLACK = 2\n",
    "\n",
    "class graph:\n",
    "    def __init__(self,M):\n",
    "        self.Mat=M\n",
    "        self.N=M.shape[0]\n",
    "        self.parent=[None for _ in range(self.N)]\n",
    "        self.color=[None for _ in range(self.N)]\n",
    "\n",
    "    def getParent(self,index):\n",
    "        return self.parent[index]\n",
    "    \n",
    "    def getColor(self,index):\n",
    "        return self.color[index]\n",
    "\n",
    "    def set_Parent (self,index,P):\n",
    "        self.parent[index]=P\n",
    "\n",
    "    def set_Color(self,index,color):\n",
    "        self.color[index]=color\n",
    "\n",
    "    def getAdj(self,index):\n",
    "        adj=[]\n",
    "        for i,v in enumerate(self.Mat[index,:]):\n",
    "            if v!=0:\n",
    "                adj.append(i)\n",
    "        return adj"
   ]
  },
  {
   "cell_type": "code",
   "execution_count": 15,
   "metadata": {},
   "outputs": [],
   "source": [
    "class BFS:\n",
    "    \n",
    "    def __init__(self,G,source):\n",
    "        \n",
    "        self.G = G\n",
    "        self.source = source\n",
    "        self.Q = []\n",
    "        self.result = []\n",
    "        \n",
    "    def traverse(self):\n",
    "    \n",
    "        for i in range(self.G.N):\n",
    "            self.G.set_Color(i,WHITE)\n",
    "            self.G.set_Parent(i,None)\n",
    "            \n",
    "        self.G.set_Color(self.source,GRAY)\n",
    "        self.Q.append(self.source)\n",
    "        while self.Q :\n",
    "            u = self.Q.pop(0)\n",
    "            for v in self.G.getAdj(u):\n",
    "                if self.G.getColor(v) == WHITE:\n",
    "                    self.G.set_Color(v,GRAY)\n",
    "                    self.G.set_Parent(v,u)\n",
    "                    self.Q.append(v)\n",
    "            self.G.set_Color(u,BLACK)\n",
    "            self.result.append(u)\n",
    "            \n",
    "    def printResult(self):\n",
    "        for u in self.result:\n",
    "            print(u,end=' ')\n",
    "        print('')\n",
    "            \n"
   ]
  },
  {
   "cell_type": "code",
   "execution_count": 12,
   "metadata": {},
   "outputs": [],
   "source": [
    "class DFS:\n",
    "\n",
    "  def __init__(self,G,source):\n",
    "\n",
    "    self.G = G\n",
    "    self.source = source\n",
    "    self.Q = []\n",
    "    self.result = []\n",
    "\n",
    "\n",
    "  def traverse(self):\n",
    "    for i in range(self.G.N):\n",
    "      self.G.set_Color(i,WHITE)\n",
    "      self.G.set_Parent(i,None)\n",
    "    \n",
    "    self.Q.append(self.source)\n",
    "    \n",
    "    while self.Q :\n",
    "      u = self.Q.pop(0)\n",
    "      if self.G.getColor(u) == WHITE:\n",
    "        self.G.set_Color(u,GRAY)\n",
    "        self.visit(self.G,u)\n",
    "        \n",
    "\n",
    "  def visit(self,G,u):\n",
    "    for v in self.G.getAdj(u):\n",
    "      if self.G.getColor(v) == WHITE: \n",
    "        self.G.set_Color(v,GRAY)\n",
    "        self.G.set_Parent(v,u)\n",
    "        self.visit(G,v)\n",
    "    self.G.set_Color(u,BLACK) \n",
    "    self.result.append(u)\n",
    "\n",
    "  def printResult(self):\n",
    "    for i in self.result:\n",
    "      print(i,end=' ')\n",
    "    print()"
   ]
  },
  {
   "cell_type": "code",
   "execution_count": 17,
   "metadata": {},
   "outputs": [],
   "source": [
    "class DLS:\n",
    "\n",
    "  def __init__(self,Graph,MaxD,goal):\n",
    "    self.G=Graph\n",
    "    self.P=[]\n",
    "    self.D=MaxD\n",
    "    self.level=1\n",
    "    self.Goal=goal\n",
    "  \n",
    "  def Traversal(self,S):\n",
    "    self.P.append(S)\n",
    "    self.G.set_Color(S,BLACK)\n",
    "    if S==self.Goal:\n",
    "      return self.P\n",
    "    elif len(self.P)==self.D:\n",
    "      return False\n",
    "    else:\n",
    "      self.level=self.level+1\n",
    "    for v in self.G.getAdj(S):\n",
    "      if self.G.getColor(v) == WHITE:\n",
    "        temp=self.Traversal(v)\n",
    "        if temp==True:\n",
    "          return self.P\n",
    "        elif temp==self.P:\n",
    "            return self.P \n",
    "        else:\n",
    "          self.P.remove(v)\n",
    "    return False  "
   ]
  },
  {
   "cell_type": "code",
   "execution_count": 11,
   "metadata": {},
   "outputs": [],
   "source": [
    "import numpy as np\n",
    "\n",
    "M = np.array([[0,1,1,0,0],\n",
    "              [1,1,0,1,0],\n",
    "              [1,0,0,1,1],\n",
    "              [0,1,1,0,1],\n",
    "              [0,0,1,1,0]])\n",
    "\n",
    "G = graph(M)"
   ]
  },
  {
   "cell_type": "code",
   "execution_count": 10,
   "metadata": {},
   "outputs": [
    {
     "name": "stdout",
     "output_type": "stream",
     "text": [
      "4 3 2 0 1 \n"
     ]
    }
   ],
   "source": [
    "dfs = DFS(G,1)\n",
    "dfs.traverse()\n",
    "dfs.printResult()\n"
   ]
  },
  {
   "cell_type": "code",
   "execution_count": 16,
   "metadata": {},
   "outputs": [
    {
     "name": "stdout",
     "output_type": "stream",
     "text": [
      "1 0 3 2 4 \n"
     ]
    }
   ],
   "source": [
    "bfs = BFS(G,1)\n",
    "bfs.traverse()\n",
    "bfs.printResult()"
   ]
  },
  {
   "cell_type": "code",
   "execution_count": 19,
   "metadata": {},
   "outputs": [
    {
     "name": "stdout",
     "output_type": "stream",
     "text": [
      "[3]\n"
     ]
    }
   ],
   "source": [
    "dls = DLS(G,3,3)\n",
    "print(dls.Traversal(3))"
   ]
  }
 ],
 "metadata": {
  "kernelspec": {
   "display_name": "Python 3.10.4 64-bit",
   "language": "python",
   "name": "python3"
  },
  "language_info": {
   "codemirror_mode": {
    "name": "ipython",
    "version": 3
   },
   "file_extension": ".py",
   "mimetype": "text/x-python",
   "name": "python",
   "nbconvert_exporter": "python",
   "pygments_lexer": "ipython3",
   "version": "3.10.4"
  },
  "orig_nbformat": 4,
  "vscode": {
   "interpreter": {
    "hash": "437f68974123ce204a29bf9735bc6fbd43f47f09a5bd25797f42c458e97b1fbe"
   }
  }
 },
 "nbformat": 4,
 "nbformat_minor": 2
}
