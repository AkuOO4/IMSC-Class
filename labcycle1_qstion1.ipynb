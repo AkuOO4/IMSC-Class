{
  "nbformat": 4,
  "nbformat_minor": 0,
  "metadata": {
    "colab": {
      "name": "labcycle1_qstion1.ipynb",
      "provenance": [],
      "collapsed_sections": [],
      "authorship_tag": "ABX9TyP8/Mo5UEokFKCCPtqN55BM",
      "include_colab_link": true
    },
    "kernelspec": {
      "name": "python3",
      "display_name": "Python 3"
    },
    "language_info": {
      "name": "python"
    }
  },
  "cells": [
    {
      "cell_type": "markdown",
      "metadata": {
        "id": "view-in-github",
        "colab_type": "text"
      },
      "source": [
        "<a href=\"https://colab.research.google.com/github/AkuOO4/python-lab/blob/main/labcycle1_qstion1.ipynb\" target=\"_parent\"><img src=\"https://colab.research.google.com/assets/colab-badge.svg\" alt=\"Open In Colab\"/></a>"
      ]
    },
    {
      "cell_type": "markdown",
      "source": [
        "1. Develop a program to read a four-digit number and find its  \n",
        " a.Sum of digits  \n",
        " b.Reverse  \n",
        " c.Difference between the product of digits at the odd position and the product of digits at the even position."
      ],
      "metadata": {
        "id": "MbxTROB3Hw8X"
      }
    },
    {
      "cell_type": "code",
      "execution_count": null,
      "metadata": {
        "colab": {
          "base_uri": "https://localhost:8080/"
        },
        "id": "WMChA0z3AmqA",
        "outputId": "e7a1bdab-fbdf-4f6a-c1c9-e7f0515bc012"
      },
      "outputs": [
        {
          "output_type": "stream",
          "name": "stdout",
          "text": [
            "enter a 4 digitno. 1234\n",
            "1. sum of digits 10\n",
            "2. reverse 4321\n",
            "3. diiference of thier products 5\n"
          ]
        }
      ],
      "source": [
        "sum=rev=0\n",
        "pro_odd=pro_eve=1\n",
        "n=int(input(\"enter a 4 digitno. \"))#asking input from the user\n",
        "#1      #finding the sum and reverse of first digit\n",
        "dig=n%10  \n",
        "rev=rev*10+dig\n",
        "sum+=dig\n",
        "n=n//10\n",
        "pro_odd*=dig\n",
        "#2      #finding the sum and reverse of second digit\n",
        "dig=n%10\n",
        "rev=rev*10+dig\n",
        "sum+=dig\n",
        "n=n//10\n",
        "pro_eve*=dig\n",
        "#3    #finding the sum and reverse of third digit\n",
        "dig=n%10\n",
        "rev=rev*10+dig\n",
        "sum+=dig\n",
        "n=n//10\n",
        "pro_odd*=dig\n",
        "#4   #finding the sum and reverse of fourth digit\n",
        "dig=n%10\n",
        "rev=rev*10+dig\n",
        "sum+=dig\n",
        "n=n//10\n",
        "pro_eve*=dig    \n",
        "print(\"1. sum of digits\",sum) #printing the sum\n",
        "print(\"2. reverse\",rev)    #printing the reverse\n",
        "print(\"3. diiference of thier products\",pro_odd-pro_eve)  #printing the difference between product of odd and even digits"
      ]
    }
  ]
}