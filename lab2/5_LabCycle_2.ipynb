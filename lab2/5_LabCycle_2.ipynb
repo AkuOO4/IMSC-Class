{
  "nbformat": 4,
  "nbformat_minor": 0,
  "metadata": {
    "colab": {
      "name": "5_LabCycle_2.ipynb",
      "provenance": [],
      "collapsed_sections": [],
      "authorship_tag": "ABX9TyMza2rsfYozhSFJlA3Na9Q+",
      "include_colab_link": true
    },
    "kernelspec": {
      "name": "python3",
      "display_name": "Python 3"
    },
    "language_info": {
      "name": "python"
    }
  },
  "cells": [
    {
      "cell_type": "markdown",
      "metadata": {
        "id": "view-in-github",
        "colab_type": "text"
      },
      "source": [
        "<a href=\"https://colab.research.google.com/github/AkuOO4/python-lab/blob/main/lab2/5_LabCycle_2.ipynb\" target=\"_parent\"><img src=\"https://colab.research.google.com/assets/colab-badge.svg\" alt=\"Open In Colab\"/></a>"
      ]
    },
    {
      "cell_type": "markdown",
      "source": [
        "5. Write a program to create a parent class, 3DShapes, with methods \n",
        "printVolume() and printArea(), which prints the Volume and Area,\n",
        "respectively. Create classes Cylinder and Sphere by inheriting\n",
        "3DShapes class. Using these child classes, calculate and print the\n",
        "volume and area of a cylinder and sphere."
      ],
      "metadata": {
        "id": "AF-zVA436D0P"
      }
    },
    {
      "cell_type": "code",
      "execution_count": null,
      "metadata": {
        "colab": {
          "base_uri": "https://localhost:8080/"
        },
        "id": "m2JNHfiy6Akh",
        "outputId": "52b1e33b-6123-45f5-c82d-09bf71605bc2"
      },
      "outputs": [
        {
          "output_type": "stream",
          "name": "stdout",
          "text": [
            "\tCYLINDER\n",
            "enter the radius of cylinder 5\n",
            "enter the heigth of cylinder 2\n",
            "The Area is  219.8\n",
            "The Volume is  157.0\n",
            "\n",
            "\tSHPERE\n",
            "enter the radius of sphere 5\n",
            "The Area is  314.0\n",
            "The Volume is  294.375\n"
          ]
        }
      ],
      "source": [
        "#base class\n",
        "class Shapes:\n",
        "  _area=None\n",
        "  _vol=None\n",
        "  def printArea(self):\n",
        "    print(\"The Area is \",self._area)\n",
        "  def printVolume(self):\n",
        "    print(\"The Volume is \",self._vol)\n",
        "  \n",
        "#derived class-1\n",
        "class Cylinder(Shapes):\n",
        "  def __init__(self,h,r):\n",
        "    self.__rad=r\n",
        "    self.__height=h\n",
        "  def Area(self):\n",
        "    self._area=2*3.14*self.__rad*(self.__rad+self.__height)\n",
        "  def Volume(self):\n",
        "    self._vol=3.14*self.__height*(self.__rad**2)\n",
        "\n",
        "#derived class-2\n",
        "class Sphere(Shapes):\n",
        "  def __init__(self,r):\n",
        "    self.__rad=r\n",
        "  def Area(self):\n",
        "    self._area=4*3.14*self.__rad**2\n",
        "  def Volume(self):\n",
        "    self._vol=(3/4)*3.14*(self.__rad**3)\n",
        "\n",
        "#finding the values for cylinder\n",
        "print(\"\\tCYLINDER\")\n",
        "r1=int(input(\"enter the radius of cylinder \"))\n",
        "h1=int(input(\"enter the heigth of cylinder \"))\n",
        "cyl=Cylinder(h1,r1)\n",
        "cyl.Area()\n",
        "cyl.printArea()\n",
        "cyl.Volume()\n",
        "cyl.printVolume()\n",
        "\n",
        "#finding the values for sphere\n",
        "print(\"\\n\\tSHPERE\")\n",
        "r2=int(input(\"enter the radius of sphere \"))\n",
        "sph=Sphere(r2)\n",
        "sph.Area()\n",
        "sph.printArea()\n",
        "sph.Volume()\n",
        "sph.printVolume()"
      ]
    }
  ]
}