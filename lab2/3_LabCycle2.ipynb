{
  "nbformat": 4,
  "nbformat_minor": 0,
  "metadata": {
    "colab": {
      "name": "3_LabCycle2.ipynb",
      "provenance": [],
      "collapsed_sections": [],
      "authorship_tag": "ABX9TyMVDlbR+x6KQkO8zvPs1Sb7",
      "include_colab_link": true
    },
    "kernelspec": {
      "name": "python3",
      "display_name": "Python 3"
    },
    "language_info": {
      "name": "python"
    }
  },
  "cells": [
    {
      "cell_type": "markdown",
      "metadata": {
        "id": "view-in-github",
        "colab_type": "text"
      },
      "source": [
        "<a href=\"https://colab.research.google.com/github/AkuOO4/python-lab/blob/main/lab2/3_LabCycle2.ipynb\" target=\"_parent\"><img src=\"https://colab.research.google.com/assets/colab-badge.svg\" alt=\"Open In Colab\"/></a>"
      ]
    },
    {
      "cell_type": "markdown",
      "source": [
        "3. Read the file 'iris.json' as a text file :\n",
        " 1. Create a list having each line of the file as an element\n",
        " 2. Convert it into a list of dictionary objects.\n",
        " 3. Show the details of all flowers whose species is \n",
        "\"setosa\".\n",
        " 4. Print the minimum petal area and max sepal area in \n",
        "each species\n",
        " 5. Sort the list of dictionaries according to the total area \n",
        "are sepal and petal."
      ],
      "metadata": {
        "id": "Zn_cUaxIPTt7"
      }
    },
    {
      "cell_type": "code",
      "execution_count": null,
      "metadata": {
        "id": "okBZj3voO6WL"
      },
      "outputs": [],
      "source": [
        "import json\n",
        "f=open(\"iris.json\",\"r\")\n",
        "fread=f.read().splitlines()\n",
        "f.close()"
      ]
    },
    {
      "cell_type": "code",
      "source": [
        "#Convert it into a list of dictionary objects.\n",
        "length=len(fread)\n",
        "dct= [eval(fread[i].strip(',')) for i in range(1, length - 1)]"
      ],
      "metadata": {
        "id": "9XHhD-G_YwqI"
      },
      "execution_count": null,
      "outputs": []
    },
    {
      "cell_type": "code",
      "source": [
        "for i in dct:\n",
        "  if i['species']=='setosa':\n",
        "    print(i)\n",
        "  i['sepal_area']=i['sepalLength']*i['sepalWidth']\n",
        "  i['petal_area']=i['petalLength']*i['petalWidth']\n",
        "  i['total_area']=i['sepal_area']+i['petal_area']\n",
        "  "
      ],
      "metadata": {
        "id": "TqK-5Q706Zja",
        "colab": {
          "base_uri": "https://localhost:8080/"
        },
        "outputId": "981035df-9765-4155-9cd3-8dbee1f87452"
      },
      "execution_count": null,
      "outputs": [
        {
          "output_type": "stream",
          "name": "stdout",
          "text": [
            "{'sepalLength': 5.1, 'sepalWidth': 3.5, 'petalLength': 1.4, 'petalWidth': 0.2, 'species': 'setosa', 'sepal_area': 17.849999999999998, 'petal_area': 0.27999999999999997, 'total_area': 4.997999999999998}\n",
            "{'sepalLength': 4.9, 'sepalWidth': 3.0, 'petalLength': 1.4, 'petalWidth': 0.2, 'species': 'setosa', 'sepal_area': 14.700000000000001, 'petal_area': 0.27999999999999997, 'total_area': 4.116}\n",
            "{'sepalLength': 4.7, 'sepalWidth': 3.2, 'petalLength': 1.3, 'petalWidth': 0.2, 'species': 'setosa', 'sepal_area': 15.040000000000001, 'petal_area': 0.26, 'total_area': 3.9104000000000005}\n",
            "{'sepalLength': 4.6, 'sepalWidth': 3.1, 'petalLength': 1.5, 'petalWidth': 0.2, 'species': 'setosa', 'sepal_area': 14.26, 'petal_area': 0.30000000000000004, 'total_area': 4.2780000000000005}\n",
            "{'sepalLength': 5.0, 'sepalWidth': 3.6, 'petalLength': 1.4, 'petalWidth': 0.2, 'species': 'setosa', 'sepal_area': 18.0, 'petal_area': 0.27999999999999997, 'total_area': 5.039999999999999}\n",
            "{'sepalLength': 5.4, 'sepalWidth': 3.9, 'petalLength': 1.7, 'petalWidth': 0.4, 'species': 'setosa', 'sepal_area': 21.060000000000002, 'petal_area': 0.68, 'total_area': 14.320800000000002}\n",
            "{'sepalLength': 4.6, 'sepalWidth': 3.4, 'petalLength': 1.4, 'petalWidth': 0.3, 'species': 'setosa', 'sepal_area': 15.639999999999999, 'petal_area': 0.42, 'total_area': 6.5687999999999995}\n",
            "{'sepalLength': 5.0, 'sepalWidth': 3.4, 'petalLength': 1.5, 'petalWidth': 0.2, 'species': 'setosa', 'sepal_area': 17.0, 'petal_area': 0.30000000000000004, 'total_area': 5.1000000000000005}\n",
            "{'sepalLength': 4.4, 'sepalWidth': 2.9, 'petalLength': 1.4, 'petalWidth': 0.2, 'species': 'setosa', 'sepal_area': 12.76, 'petal_area': 0.27999999999999997, 'total_area': 3.5727999999999995}\n",
            "{'sepalLength': 4.9, 'sepalWidth': 3.1, 'petalLength': 1.5, 'petalWidth': 0.1, 'species': 'setosa', 'sepal_area': 15.190000000000001, 'petal_area': 0.15000000000000002, 'total_area': 2.2785000000000006}\n",
            "{'sepalLength': 5.4, 'sepalWidth': 3.7, 'petalLength': 1.5, 'petalWidth': 0.2, 'species': 'setosa', 'sepal_area': 19.980000000000004, 'petal_area': 0.30000000000000004, 'total_area': 5.994000000000002}\n",
            "{'sepalLength': 4.8, 'sepalWidth': 3.4, 'petalLength': 1.6, 'petalWidth': 0.2, 'species': 'setosa', 'sepal_area': 16.32, 'petal_area': 0.32000000000000006, 'total_area': 5.222400000000001}\n",
            "{'sepalLength': 4.8, 'sepalWidth': 3.0, 'petalLength': 1.4, 'petalWidth': 0.1, 'species': 'setosa', 'sepal_area': 14.399999999999999, 'petal_area': 0.13999999999999999, 'total_area': 2.0159999999999996}\n",
            "{'sepalLength': 4.3, 'sepalWidth': 3.0, 'petalLength': 1.1, 'petalWidth': 0.1, 'species': 'setosa', 'sepal_area': 12.899999999999999, 'petal_area': 0.11000000000000001, 'total_area': 1.419}\n",
            "{'sepalLength': 5.8, 'sepalWidth': 4.0, 'petalLength': 1.2, 'petalWidth': 0.2, 'species': 'setosa', 'sepal_area': 23.2, 'petal_area': 0.24, 'total_area': 5.568}\n",
            "{'sepalLength': 5.7, 'sepalWidth': 4.4, 'petalLength': 1.5, 'petalWidth': 0.4, 'species': 'setosa', 'sepal_area': 25.080000000000002, 'petal_area': 0.6000000000000001, 'total_area': 15.048000000000004}\n",
            "{'sepalLength': 5.4, 'sepalWidth': 3.9, 'petalLength': 1.3, 'petalWidth': 0.4, 'species': 'setosa', 'sepal_area': 21.060000000000002, 'petal_area': 0.52, 'total_area': 10.951200000000002}\n",
            "{'sepalLength': 5.1, 'sepalWidth': 3.5, 'petalLength': 1.4, 'petalWidth': 0.3, 'species': 'setosa', 'sepal_area': 17.849999999999998, 'petal_area': 0.42, 'total_area': 7.496999999999999}\n",
            "{'sepalLength': 5.7, 'sepalWidth': 3.8, 'petalLength': 1.7, 'petalWidth': 0.3, 'species': 'setosa', 'sepal_area': 21.66, 'petal_area': 0.51, 'total_area': 11.0466}\n",
            "{'sepalLength': 5.1, 'sepalWidth': 3.8, 'petalLength': 1.5, 'petalWidth': 0.3, 'species': 'setosa', 'sepal_area': 19.38, 'petal_area': 0.44999999999999996, 'total_area': 8.720999999999998}\n",
            "{'sepalLength': 5.4, 'sepalWidth': 3.4, 'petalLength': 1.7, 'petalWidth': 0.2, 'species': 'setosa', 'sepal_area': 18.36, 'petal_area': 0.34, 'total_area': 6.2424}\n",
            "{'sepalLength': 5.1, 'sepalWidth': 3.7, 'petalLength': 1.5, 'petalWidth': 0.4, 'species': 'setosa', 'sepal_area': 18.87, 'petal_area': 0.6000000000000001, 'total_area': 11.322000000000003}\n",
            "{'sepalLength': 4.6, 'sepalWidth': 3.6, 'petalLength': 1.0, 'petalWidth': 0.2, 'species': 'setosa', 'sepal_area': 16.56, 'petal_area': 0.2, 'total_area': 3.312}\n",
            "{'sepalLength': 5.1, 'sepalWidth': 3.3, 'petalLength': 1.7, 'petalWidth': 0.5, 'species': 'setosa', 'sepal_area': 16.83, 'petal_area': 0.85, 'total_area': 14.305499999999999}\n",
            "{'sepalLength': 4.8, 'sepalWidth': 3.4, 'petalLength': 1.9, 'petalWidth': 0.2, 'species': 'setosa', 'sepal_area': 16.32, 'petal_area': 0.38, 'total_area': 6.2016}\n",
            "{'sepalLength': 5.0, 'sepalWidth': 3.0, 'petalLength': 1.6, 'petalWidth': 0.2, 'species': 'setosa', 'sepal_area': 15.0, 'petal_area': 0.32000000000000006, 'total_area': 4.800000000000001}\n",
            "{'sepalLength': 5.0, 'sepalWidth': 3.4, 'petalLength': 1.6, 'petalWidth': 0.4, 'species': 'setosa', 'sepal_area': 17.0, 'petal_area': 0.6400000000000001, 'total_area': 10.880000000000003}\n",
            "{'sepalLength': 5.2, 'sepalWidth': 3.5, 'petalLength': 1.5, 'petalWidth': 0.2, 'species': 'setosa', 'sepal_area': 18.2, 'petal_area': 0.30000000000000004, 'total_area': 5.460000000000001}\n",
            "{'sepalLength': 5.2, 'sepalWidth': 3.4, 'petalLength': 1.4, 'petalWidth': 0.2, 'species': 'setosa', 'sepal_area': 17.68, 'petal_area': 0.27999999999999997, 'total_area': 4.950399999999999}\n",
            "{'sepalLength': 4.7, 'sepalWidth': 3.2, 'petalLength': 1.6, 'petalWidth': 0.2, 'species': 'setosa', 'sepal_area': 15.040000000000001, 'petal_area': 0.32000000000000006, 'total_area': 4.812800000000001}\n",
            "{'sepalLength': 4.8, 'sepalWidth': 3.1, 'petalLength': 1.6, 'petalWidth': 0.2, 'species': 'setosa', 'sepal_area': 14.879999999999999, 'petal_area': 0.32000000000000006, 'total_area': 4.7616000000000005}\n",
            "{'sepalLength': 5.4, 'sepalWidth': 3.4, 'petalLength': 1.5, 'petalWidth': 0.4, 'species': 'setosa', 'sepal_area': 18.36, 'petal_area': 0.6000000000000001, 'total_area': 11.016000000000002}\n",
            "{'sepalLength': 5.2, 'sepalWidth': 4.1, 'petalLength': 1.5, 'petalWidth': 0.1, 'species': 'setosa', 'sepal_area': 21.32, 'petal_area': 0.15000000000000002, 'total_area': 3.1980000000000004}\n",
            "{'sepalLength': 5.5, 'sepalWidth': 4.2, 'petalLength': 1.4, 'petalWidth': 0.2, 'species': 'setosa', 'sepal_area': 23.1, 'petal_area': 0.27999999999999997, 'total_area': 6.468}\n",
            "{'sepalLength': 4.9, 'sepalWidth': 3.1, 'petalLength': 1.5, 'petalWidth': 0.2, 'species': 'setosa', 'sepal_area': 15.190000000000001, 'petal_area': 0.30000000000000004, 'total_area': 4.557000000000001}\n",
            "{'sepalLength': 5.0, 'sepalWidth': 3.2, 'petalLength': 1.2, 'petalWidth': 0.2, 'species': 'setosa', 'sepal_area': 16.0, 'petal_area': 0.24, 'total_area': 3.84}\n",
            "{'sepalLength': 5.5, 'sepalWidth': 3.5, 'petalLength': 1.3, 'petalWidth': 0.2, 'species': 'setosa', 'sepal_area': 19.25, 'petal_area': 0.26, 'total_area': 5.005}\n",
            "{'sepalLength': 4.9, 'sepalWidth': 3.6, 'petalLength': 1.4, 'petalWidth': 0.1, 'species': 'setosa', 'sepal_area': 17.64, 'petal_area': 0.13999999999999999, 'total_area': 2.4696}\n",
            "{'sepalLength': 4.4, 'sepalWidth': 3.0, 'petalLength': 1.3, 'petalWidth': 0.2, 'species': 'setosa', 'sepal_area': 13.200000000000001, 'petal_area': 0.26, 'total_area': 3.4320000000000004}\n",
            "{'sepalLength': 5.1, 'sepalWidth': 3.4, 'petalLength': 1.5, 'petalWidth': 0.2, 'species': 'setosa', 'sepal_area': 17.34, 'petal_area': 0.30000000000000004, 'total_area': 5.202000000000001}\n",
            "{'sepalLength': 5.0, 'sepalWidth': 3.5, 'petalLength': 1.3, 'petalWidth': 0.3, 'species': 'setosa', 'sepal_area': 17.5, 'petal_area': 0.39, 'total_area': 6.825}\n",
            "{'sepalLength': 4.5, 'sepalWidth': 2.3, 'petalLength': 1.3, 'petalWidth': 0.3, 'species': 'setosa', 'sepal_area': 10.35, 'petal_area': 0.39, 'total_area': 4.0365}\n",
            "{'sepalLength': 4.4, 'sepalWidth': 3.2, 'petalLength': 1.3, 'petalWidth': 0.2, 'species': 'setosa', 'sepal_area': 14.080000000000002, 'petal_area': 0.26, 'total_area': 3.6608000000000005}\n",
            "{'sepalLength': 5.0, 'sepalWidth': 3.5, 'petalLength': 1.6, 'petalWidth': 0.6, 'species': 'setosa', 'sepal_area': 17.5, 'petal_area': 0.96, 'total_area': 16.8}\n",
            "{'sepalLength': 5.1, 'sepalWidth': 3.8, 'petalLength': 1.9, 'petalWidth': 0.4, 'species': 'setosa', 'sepal_area': 19.38, 'petal_area': 0.76, 'total_area': 14.7288}\n",
            "{'sepalLength': 4.8, 'sepalWidth': 3.0, 'petalLength': 1.4, 'petalWidth': 0.3, 'species': 'setosa', 'sepal_area': 14.399999999999999, 'petal_area': 0.42, 'total_area': 6.047999999999999}\n",
            "{'sepalLength': 5.1, 'sepalWidth': 3.8, 'petalLength': 1.6, 'petalWidth': 0.2, 'species': 'setosa', 'sepal_area': 19.38, 'petal_area': 0.32000000000000006, 'total_area': 6.201600000000001}\n",
            "{'sepalLength': 4.6, 'sepalWidth': 3.2, 'petalLength': 1.4, 'petalWidth': 0.2, 'species': 'setosa', 'sepal_area': 14.719999999999999, 'petal_area': 0.27999999999999997, 'total_area': 4.121599999999999}\n",
            "{'sepalLength': 5.3, 'sepalWidth': 3.7, 'petalLength': 1.5, 'petalWidth': 0.2, 'species': 'setosa', 'sepal_area': 19.61, 'petal_area': 0.30000000000000004, 'total_area': 5.883000000000001}\n",
            "{'sepalLength': 5.0, 'sepalWidth': 3.3, 'petalLength': 1.4, 'petalWidth': 0.2, 'species': 'setosa', 'sepal_area': 16.5, 'petal_area': 0.27999999999999997, 'total_area': 4.619999999999999}\n"
          ]
        }
      ]
    },
    {
      "cell_type": "code",
      "source": [
        "sepal_ar=[]\n",
        "petal_ar=[]\n",
        "species_list=[]\n",
        "for i in dct:\n",
        "  species_list.append(i['species'])\n",
        "species_list=list(set(species_list))\n",
        "for j in range (len(species_list)):\n",
        "  for k in dct:\n",
        "    if k['species']==species_list[j]:\n",
        "      sepal_ar.append(k['sepal_area'])\n",
        "      petal_ar.append(k['petal_area'])\n",
        "  print()\n",
        "  print(\"The minimum and maximum petal area of \",species_list[j],\" is \",round(min(petal_ar),2),\" and \",round(max(petal_ar)),\" respectively.\")\n",
        "  print(\"The minimum and maximum sepal area of \",species_list[j],\" is \",round(min(sepal_ar),2),\" and \",round(max(sepal_ar),2),\" respectively.\")\n",
        "  sepal_ar=[]\n",
        "  petal_ar=[]"
      ],
      "metadata": {
        "colab": {
          "base_uri": "https://localhost:8080/"
        },
        "id": "s5YBQOXjpPBe",
        "outputId": "1c10d7c2-4a1d-4218-f983-b928fa5f7b47"
      },
      "execution_count": null,
      "outputs": [
        {
          "output_type": "stream",
          "name": "stdout",
          "text": [
            "\n",
            "The minimum and maximum petal area of  versicolor  is  3.3  and  9  respectively.\n",
            "The minimum and maximum sepal area of  versicolor  is  10.0  and  22.4  respectively.\n",
            "\n",
            "The minimum and maximum petal area of  virginica  is  7.5  and  16  respectively.\n",
            "The minimum and maximum sepal area of  virginica  is  12.25  and  30.02  respectively.\n",
            "\n",
            "The minimum and maximum petal area of  setosa  is  0.11  and  1  respectively.\n",
            "The minimum and maximum sepal area of  setosa  is  10.35  and  25.08  respectively.\n"
          ]
        }
      ]
    },
    {
      "cell_type": "code",
      "source": [
        "#sort\n",
        "sortedList = (sorted(dct, key = lambda i:i['total_area'] ))\n",
        "for i in sortedList:\n",
        "  print(i)"
      ],
      "metadata": {
        "colab": {
          "base_uri": "https://localhost:8080/"
        },
        "id": "GNzjy1VbVFhI",
        "outputId": "2529fefa-362a-4c32-ca88-f8c61abe8ac3"
      },
      "execution_count": null,
      "outputs": [
        {
          "output_type": "stream",
          "name": "stdout",
          "text": [
            "{'sepalLength': 4.5, 'sepalWidth': 2.3, 'petalLength': 1.3, 'petalWidth': 0.3, 'species': 'setosa', 'sepal_area': 10.35, 'petal_area': 0.39, 'total_area': 10.74}\n",
            "{'sepalLength': 4.3, 'sepalWidth': 3.0, 'petalLength': 1.1, 'petalWidth': 0.1, 'species': 'setosa', 'sepal_area': 12.899999999999999, 'petal_area': 0.11000000000000001, 'total_area': 13.009999999999998}\n",
            "{'sepalLength': 4.4, 'sepalWidth': 2.9, 'petalLength': 1.4, 'petalWidth': 0.2, 'species': 'setosa', 'sepal_area': 12.76, 'petal_area': 0.27999999999999997, 'total_area': 13.04}\n",
            "{'sepalLength': 4.4, 'sepalWidth': 3.0, 'petalLength': 1.3, 'petalWidth': 0.2, 'species': 'setosa', 'sepal_area': 13.200000000000001, 'petal_area': 0.26, 'total_area': 13.46}\n",
            "{'sepalLength': 5.0, 'sepalWidth': 2.0, 'petalLength': 3.5, 'petalWidth': 1.0, 'species': 'versicolor', 'sepal_area': 10.0, 'petal_area': 3.5, 'total_area': 13.5}\n",
            "{'sepalLength': 4.4, 'sepalWidth': 3.2, 'petalLength': 1.3, 'petalWidth': 0.2, 'species': 'setosa', 'sepal_area': 14.080000000000002, 'petal_area': 0.26, 'total_area': 14.340000000000002}\n",
            "{'sepalLength': 4.8, 'sepalWidth': 3.0, 'petalLength': 1.4, 'petalWidth': 0.1, 'species': 'setosa', 'sepal_area': 14.399999999999999, 'petal_area': 0.13999999999999999, 'total_area': 14.54}\n",
            "{'sepalLength': 4.6, 'sepalWidth': 3.1, 'petalLength': 1.5, 'petalWidth': 0.2, 'species': 'setosa', 'sepal_area': 14.26, 'petal_area': 0.30000000000000004, 'total_area': 14.56}\n",
            "{'sepalLength': 5.0, 'sepalWidth': 2.3, 'petalLength': 3.3, 'petalWidth': 1.0, 'species': 'versicolor', 'sepal_area': 11.5, 'petal_area': 3.3, 'total_area': 14.8}\n",
            "{'sepalLength': 4.8, 'sepalWidth': 3.0, 'petalLength': 1.4, 'petalWidth': 0.3, 'species': 'setosa', 'sepal_area': 14.399999999999999, 'petal_area': 0.42, 'total_area': 14.819999999999999}\n",
            "{'sepalLength': 4.9, 'sepalWidth': 3.0, 'petalLength': 1.4, 'petalWidth': 0.2, 'species': 'setosa', 'sepal_area': 14.700000000000001, 'petal_area': 0.27999999999999997, 'total_area': 14.98}\n",
            "{'sepalLength': 4.6, 'sepalWidth': 3.2, 'petalLength': 1.4, 'petalWidth': 0.2, 'species': 'setosa', 'sepal_area': 14.719999999999999, 'petal_area': 0.27999999999999997, 'total_area': 14.999999999999998}\n",
            "{'sepalLength': 4.9, 'sepalWidth': 2.4, 'petalLength': 3.3, 'petalWidth': 1.0, 'species': 'versicolor', 'sepal_area': 11.76, 'petal_area': 3.3, 'total_area': 15.059999999999999}\n",
            "{'sepalLength': 4.8, 'sepalWidth': 3.1, 'petalLength': 1.6, 'petalWidth': 0.2, 'species': 'setosa', 'sepal_area': 14.879999999999999, 'petal_area': 0.32000000000000006, 'total_area': 15.2}\n",
            "{'sepalLength': 4.7, 'sepalWidth': 3.2, 'petalLength': 1.3, 'petalWidth': 0.2, 'species': 'setosa', 'sepal_area': 15.040000000000001, 'petal_area': 0.26, 'total_area': 15.3}\n",
            "{'sepalLength': 5.0, 'sepalWidth': 3.0, 'petalLength': 1.6, 'petalWidth': 0.2, 'species': 'setosa', 'sepal_area': 15.0, 'petal_area': 0.32000000000000006, 'total_area': 15.32}\n",
            "{'sepalLength': 4.9, 'sepalWidth': 3.1, 'petalLength': 1.5, 'petalWidth': 0.1, 'species': 'setosa', 'sepal_area': 15.190000000000001, 'petal_area': 0.15000000000000002, 'total_area': 15.340000000000002}\n",
            "{'sepalLength': 4.7, 'sepalWidth': 3.2, 'petalLength': 1.6, 'petalWidth': 0.2, 'species': 'setosa', 'sepal_area': 15.040000000000001, 'petal_area': 0.32000000000000006, 'total_area': 15.360000000000001}\n",
            "{'sepalLength': 4.9, 'sepalWidth': 3.1, 'petalLength': 1.5, 'petalWidth': 0.2, 'species': 'setosa', 'sepal_area': 15.190000000000001, 'petal_area': 0.30000000000000004, 'total_area': 15.490000000000002}\n",
            "{'sepalLength': 5.1, 'sepalWidth': 2.5, 'petalLength': 3.0, 'petalWidth': 1.1, 'species': 'versicolor', 'sepal_area': 12.75, 'petal_area': 3.3000000000000003, 'total_area': 16.05}\n",
            "{'sepalLength': 4.6, 'sepalWidth': 3.4, 'petalLength': 1.4, 'petalWidth': 0.3, 'species': 'setosa', 'sepal_area': 15.639999999999999, 'petal_area': 0.42, 'total_area': 16.06}\n",
            "{'sepalLength': 5.0, 'sepalWidth': 3.2, 'petalLength': 1.2, 'petalWidth': 0.2, 'species': 'setosa', 'sepal_area': 16.0, 'petal_area': 0.24, 'total_area': 16.24}\n",
            "{'sepalLength': 4.8, 'sepalWidth': 3.4, 'petalLength': 1.6, 'petalWidth': 0.2, 'species': 'setosa', 'sepal_area': 16.32, 'petal_area': 0.32000000000000006, 'total_area': 16.64}\n",
            "{'sepalLength': 4.8, 'sepalWidth': 3.4, 'petalLength': 1.9, 'petalWidth': 0.2, 'species': 'setosa', 'sepal_area': 16.32, 'petal_area': 0.38, 'total_area': 16.7}\n",
            "{'sepalLength': 4.6, 'sepalWidth': 3.6, 'petalLength': 1.0, 'petalWidth': 0.2, 'species': 'setosa', 'sepal_area': 16.56, 'petal_area': 0.2, 'total_area': 16.759999999999998}\n",
            "{'sepalLength': 5.0, 'sepalWidth': 3.3, 'petalLength': 1.4, 'petalWidth': 0.2, 'species': 'setosa', 'sepal_area': 16.5, 'petal_area': 0.27999999999999997, 'total_area': 16.78}\n",
            "{'sepalLength': 5.5, 'sepalWidth': 2.4, 'petalLength': 3.7, 'petalWidth': 1.0, 'species': 'versicolor', 'sepal_area': 13.2, 'petal_area': 3.7, 'total_area': 16.9}\n",
            "{'sepalLength': 6.0, 'sepalWidth': 2.2, 'petalLength': 4.0, 'petalWidth': 1.0, 'species': 'versicolor', 'sepal_area': 13.200000000000001, 'petal_area': 4.0, 'total_area': 17.200000000000003}\n",
            "{'sepalLength': 5.0, 'sepalWidth': 3.4, 'petalLength': 1.5, 'petalWidth': 0.2, 'species': 'setosa', 'sepal_area': 17.0, 'petal_area': 0.30000000000000004, 'total_area': 17.3}\n",
            "{'sepalLength': 5.5, 'sepalWidth': 2.4, 'petalLength': 3.8, 'petalWidth': 1.1, 'species': 'versicolor', 'sepal_area': 13.2, 'petal_area': 4.18, 'total_area': 17.38}\n",
            "{'sepalLength': 5.0, 'sepalWidth': 3.4, 'petalLength': 1.6, 'petalWidth': 0.4, 'species': 'setosa', 'sepal_area': 17.0, 'petal_area': 0.6400000000000001, 'total_area': 17.64}\n",
            "{'sepalLength': 5.1, 'sepalWidth': 3.4, 'petalLength': 1.5, 'petalWidth': 0.2, 'species': 'setosa', 'sepal_area': 17.34, 'petal_area': 0.30000000000000004, 'total_area': 17.64}\n",
            "{'sepalLength': 5.1, 'sepalWidth': 3.3, 'petalLength': 1.7, 'petalWidth': 0.5, 'species': 'setosa', 'sepal_area': 16.83, 'petal_area': 0.85, 'total_area': 17.68}\n",
            "{'sepalLength': 4.9, 'sepalWidth': 3.6, 'petalLength': 1.4, 'petalWidth': 0.1, 'species': 'setosa', 'sepal_area': 17.64, 'petal_area': 0.13999999999999999, 'total_area': 17.78}\n",
            "{'sepalLength': 5.5, 'sepalWidth': 2.3, 'petalLength': 4.0, 'petalWidth': 1.3, 'species': 'versicolor', 'sepal_area': 12.649999999999999, 'petal_area': 5.2, 'total_area': 17.849999999999998}\n",
            "{'sepalLength': 5.0, 'sepalWidth': 3.5, 'petalLength': 1.3, 'petalWidth': 0.3, 'species': 'setosa', 'sepal_area': 17.5, 'petal_area': 0.39, 'total_area': 17.89}\n",
            "{'sepalLength': 5.2, 'sepalWidth': 3.4, 'petalLength': 1.4, 'petalWidth': 0.2, 'species': 'setosa', 'sepal_area': 17.68, 'petal_area': 0.27999999999999997, 'total_area': 17.96}\n",
            "{'sepalLength': 5.1, 'sepalWidth': 3.5, 'petalLength': 1.4, 'petalWidth': 0.2, 'species': 'setosa', 'sepal_area': 17.849999999999998, 'petal_area': 0.27999999999999997, 'total_area': 18.13}\n",
            "{'sepalLength': 5.1, 'sepalWidth': 3.5, 'petalLength': 1.4, 'petalWidth': 0.3, 'species': 'setosa', 'sepal_area': 17.849999999999998, 'petal_area': 0.42, 'total_area': 18.27}\n",
            "{'sepalLength': 5.0, 'sepalWidth': 3.6, 'petalLength': 1.4, 'petalWidth': 0.2, 'species': 'setosa', 'sepal_area': 18.0, 'petal_area': 0.27999999999999997, 'total_area': 18.28}\n",
            "{'sepalLength': 5.6, 'sepalWidth': 2.5, 'petalLength': 3.9, 'petalWidth': 1.1, 'species': 'versicolor', 'sepal_area': 14.0, 'petal_area': 4.29, 'total_area': 18.29}\n",
            "{'sepalLength': 5.7, 'sepalWidth': 2.6, 'petalLength': 3.5, 'petalWidth': 1.0, 'species': 'versicolor', 'sepal_area': 14.82, 'petal_area': 3.5, 'total_area': 18.32}\n",
            "{'sepalLength': 5.0, 'sepalWidth': 3.5, 'petalLength': 1.6, 'petalWidth': 0.6, 'species': 'setosa', 'sepal_area': 17.5, 'petal_area': 0.96, 'total_area': 18.46}\n",
            "{'sepalLength': 5.2, 'sepalWidth': 3.5, 'petalLength': 1.5, 'petalWidth': 0.2, 'species': 'setosa', 'sepal_area': 18.2, 'petal_area': 0.30000000000000004, 'total_area': 18.5}\n",
            "{'sepalLength': 5.4, 'sepalWidth': 3.4, 'petalLength': 1.7, 'petalWidth': 0.2, 'species': 'setosa', 'sepal_area': 18.36, 'petal_area': 0.34, 'total_area': 18.7}\n",
            "{'sepalLength': 5.5, 'sepalWidth': 2.5, 'petalLength': 4.0, 'petalWidth': 1.3, 'species': 'versicolor', 'sepal_area': 13.75, 'petal_area': 5.2, 'total_area': 18.95}\n",
            "{'sepalLength': 5.4, 'sepalWidth': 3.4, 'petalLength': 1.5, 'petalWidth': 0.4, 'species': 'setosa', 'sepal_area': 18.36, 'petal_area': 0.6000000000000001, 'total_area': 18.96}\n",
            "{'sepalLength': 5.1, 'sepalWidth': 3.7, 'petalLength': 1.5, 'petalWidth': 0.4, 'species': 'setosa', 'sepal_area': 18.87, 'petal_area': 0.6000000000000001, 'total_area': 19.470000000000002}\n",
            "{'sepalLength': 5.2, 'sepalWidth': 2.7, 'petalLength': 3.9, 'petalWidth': 1.4, 'species': 'versicolor', 'sepal_area': 14.040000000000001, 'petal_area': 5.46, 'total_area': 19.5}\n",
            "{'sepalLength': 5.5, 'sepalWidth': 3.5, 'petalLength': 1.3, 'petalWidth': 0.2, 'species': 'setosa', 'sepal_area': 19.25, 'petal_area': 0.26, 'total_area': 19.51}\n",
            "{'sepalLength': 5.5, 'sepalWidth': 2.6, 'petalLength': 4.4, 'petalWidth': 1.2, 'species': 'versicolor', 'sepal_area': 14.3, 'petal_area': 5.28, 'total_area': 19.580000000000002}\n",
            "{'sepalLength': 5.1, 'sepalWidth': 3.8, 'petalLength': 1.6, 'petalWidth': 0.2, 'species': 'setosa', 'sepal_area': 19.38, 'petal_area': 0.32000000000000006, 'total_area': 19.7}\n",
            "{'sepalLength': 5.8, 'sepalWidth': 2.7, 'petalLength': 4.1, 'petalWidth': 1.0, 'species': 'versicolor', 'sepal_area': 15.66, 'petal_area': 4.1, 'total_area': 19.759999999999998}\n",
            "{'sepalLength': 5.1, 'sepalWidth': 3.8, 'petalLength': 1.5, 'petalWidth': 0.3, 'species': 'setosa', 'sepal_area': 19.38, 'petal_area': 0.44999999999999996, 'total_area': 19.83}\n",
            "{'sepalLength': 5.8, 'sepalWidth': 2.6, 'petalLength': 4.0, 'petalWidth': 1.2, 'species': 'versicolor', 'sepal_area': 15.08, 'petal_area': 4.8, 'total_area': 19.88}\n",
            "{'sepalLength': 4.9, 'sepalWidth': 2.5, 'petalLength': 4.5, 'petalWidth': 1.7, 'species': 'virginica', 'sepal_area': 12.25, 'petal_area': 7.6499999999999995, 'total_area': 19.9}\n",
            "{'sepalLength': 5.3, 'sepalWidth': 3.7, 'petalLength': 1.5, 'petalWidth': 0.2, 'species': 'setosa', 'sepal_area': 19.61, 'petal_area': 0.30000000000000004, 'total_area': 19.91}\n",
            "{'sepalLength': 5.1, 'sepalWidth': 3.8, 'petalLength': 1.9, 'petalWidth': 0.4, 'species': 'setosa', 'sepal_area': 19.38, 'petal_area': 0.76, 'total_area': 20.14}\n",
            "{'sepalLength': 6.3, 'sepalWidth': 2.3, 'petalLength': 4.4, 'petalWidth': 1.3, 'species': 'versicolor', 'sepal_area': 14.489999999999998, 'petal_area': 5.720000000000001, 'total_area': 20.21}\n",
            "{'sepalLength': 5.4, 'sepalWidth': 3.7, 'petalLength': 1.5, 'petalWidth': 0.2, 'species': 'setosa', 'sepal_area': 19.980000000000004, 'petal_area': 0.30000000000000004, 'total_area': 20.280000000000005}\n",
            "{'sepalLength': 5.8, 'sepalWidth': 2.7, 'petalLength': 3.9, 'petalWidth': 1.2, 'species': 'versicolor', 'sepal_area': 15.66, 'petal_area': 4.68, 'total_area': 20.34}\n",
            "{'sepalLength': 6.2, 'sepalWidth': 2.2, 'petalLength': 4.5, 'petalWidth': 1.5, 'species': 'versicolor', 'sepal_area': 13.640000000000002, 'petal_area': 6.75, 'total_area': 20.39}\n",
            "{'sepalLength': 5.6, 'sepalWidth': 2.7, 'petalLength': 4.2, 'petalWidth': 1.3, 'species': 'versicolor', 'sepal_area': 15.12, 'petal_area': 5.460000000000001, 'total_area': 20.58}\n",
            "{'sepalLength': 6.0, 'sepalWidth': 2.2, 'petalLength': 5.0, 'petalWidth': 1.5, 'species': 'virginica', 'sepal_area': 13.200000000000001, 'petal_area': 7.5, 'total_area': 20.700000000000003}\n",
            "{'sepalLength': 5.6, 'sepalWidth': 2.9, 'petalLength': 3.6, 'petalWidth': 1.3, 'species': 'versicolor', 'sepal_area': 16.24, 'petal_area': 4.680000000000001, 'total_area': 20.919999999999998}\n",
            "{'sepalLength': 5.7, 'sepalWidth': 2.8, 'petalLength': 4.1, 'petalWidth': 1.3, 'species': 'versicolor', 'sepal_area': 15.959999999999999, 'petal_area': 5.33, 'total_area': 21.29}\n",
            "{'sepalLength': 5.2, 'sepalWidth': 4.1, 'petalLength': 1.5, 'petalWidth': 0.1, 'species': 'setosa', 'sepal_area': 21.32, 'petal_area': 0.15000000000000002, 'total_area': 21.47}\n",
            "{'sepalLength': 5.4, 'sepalWidth': 3.9, 'petalLength': 1.3, 'petalWidth': 0.4, 'species': 'setosa', 'sepal_area': 21.060000000000002, 'petal_area': 0.52, 'total_area': 21.580000000000002}\n",
            "{'sepalLength': 5.4, 'sepalWidth': 3.9, 'petalLength': 1.7, 'petalWidth': 0.4, 'species': 'setosa', 'sepal_area': 21.060000000000002, 'petal_area': 0.68, 'total_area': 21.740000000000002}\n",
            "{'sepalLength': 5.7, 'sepalWidth': 2.8, 'petalLength': 4.5, 'petalWidth': 1.3, 'species': 'versicolor', 'sepal_area': 15.959999999999999, 'petal_area': 5.8500000000000005, 'total_area': 21.81}\n",
            "{'sepalLength': 5.7, 'sepalWidth': 2.9, 'petalLength': 4.2, 'petalWidth': 1.3, 'species': 'versicolor', 'sepal_area': 16.53, 'petal_area': 5.460000000000001, 'total_area': 21.990000000000002}\n",
            "{'sepalLength': 5.6, 'sepalWidth': 3.0, 'petalLength': 4.1, 'petalWidth': 1.3, 'species': 'versicolor', 'sepal_area': 16.799999999999997, 'petal_area': 5.33, 'total_area': 22.129999999999995}\n",
            "{'sepalLength': 5.7, 'sepalWidth': 3.0, 'petalLength': 4.2, 'petalWidth': 1.2, 'species': 'versicolor', 'sepal_area': 17.1, 'petal_area': 5.04, 'total_area': 22.14}\n",
            "{'sepalLength': 5.7, 'sepalWidth': 3.8, 'petalLength': 1.7, 'petalWidth': 0.3, 'species': 'setosa', 'sepal_area': 21.66, 'petal_area': 0.51, 'total_area': 22.17}\n",
            "{'sepalLength': 6.1, 'sepalWidth': 2.8, 'petalLength': 4.0, 'petalWidth': 1.3, 'species': 'versicolor', 'sepal_area': 17.08, 'petal_area': 5.2, 'total_area': 22.279999999999998}\n",
            "{'sepalLength': 6.1, 'sepalWidth': 2.8, 'petalLength': 4.7, 'petalWidth': 1.2, 'species': 'versicolor', 'sepal_area': 17.08, 'petal_area': 5.64, 'total_area': 22.72}\n",
            "{'sepalLength': 5.4, 'sepalWidth': 3.0, 'petalLength': 4.5, 'petalWidth': 1.5, 'species': 'versicolor', 'sepal_area': 16.200000000000003, 'petal_area': 6.75, 'total_area': 22.950000000000003}\n",
            "{'sepalLength': 6.3, 'sepalWidth': 2.5, 'petalLength': 4.9, 'petalWidth': 1.5, 'species': 'versicolor', 'sepal_area': 15.75, 'petal_area': 7.3500000000000005, 'total_area': 23.1}\n",
            "{'sepalLength': 5.5, 'sepalWidth': 4.2, 'petalLength': 1.4, 'petalWidth': 0.2, 'species': 'setosa', 'sepal_area': 23.1, 'petal_area': 0.27999999999999997, 'total_area': 23.380000000000003}\n",
            "{'sepalLength': 5.8, 'sepalWidth': 4.0, 'petalLength': 1.2, 'petalWidth': 0.2, 'species': 'setosa', 'sepal_area': 23.2, 'petal_area': 0.24, 'total_area': 23.439999999999998}\n",
            "{'sepalLength': 5.6, 'sepalWidth': 3.0, 'petalLength': 4.5, 'petalWidth': 1.5, 'species': 'versicolor', 'sepal_area': 16.799999999999997, 'petal_area': 6.75, 'total_area': 23.549999999999997}\n",
            "{'sepalLength': 6.2, 'sepalWidth': 2.9, 'petalLength': 4.3, 'petalWidth': 1.3, 'species': 'versicolor', 'sepal_area': 17.98, 'petal_area': 5.59, 'total_area': 23.57}\n",
            "{'sepalLength': 6.1, 'sepalWidth': 2.6, 'petalLength': 5.6, 'petalWidth': 1.4, 'species': 'virginica', 'sepal_area': 15.86, 'petal_area': 7.839999999999999, 'total_area': 23.7}\n",
            "{'sepalLength': 5.9, 'sepalWidth': 3.0, 'petalLength': 4.2, 'petalWidth': 1.5, 'species': 'versicolor', 'sepal_area': 17.700000000000003, 'petal_area': 6.300000000000001, 'total_area': 24.000000000000004}\n",
            "{'sepalLength': 6.4, 'sepalWidth': 2.9, 'petalLength': 4.3, 'petalWidth': 1.3, 'species': 'versicolor', 'sepal_area': 18.56, 'petal_area': 5.59, 'total_area': 24.15}\n",
            "{'sepalLength': 6.0, 'sepalWidth': 2.9, 'petalLength': 4.5, 'petalWidth': 1.5, 'species': 'versicolor', 'sepal_area': 17.4, 'petal_area': 6.75, 'total_area': 24.15}\n",
            "{'sepalLength': 5.7, 'sepalWidth': 2.5, 'petalLength': 5.0, 'petalWidth': 2.0, 'species': 'virginica', 'sepal_area': 14.25, 'petal_area': 10.0, 'total_area': 24.25}\n",
            "{'sepalLength': 6.1, 'sepalWidth': 2.9, 'petalLength': 4.7, 'petalWidth': 1.4, 'species': 'versicolor', 'sepal_area': 17.689999999999998, 'petal_area': 6.58, 'total_area': 24.269999999999996}\n",
            "{'sepalLength': 6.0, 'sepalWidth': 2.7, 'petalLength': 5.1, 'petalWidth': 1.6, 'species': 'versicolor', 'sepal_area': 16.200000000000003, 'petal_area': 8.16, 'total_area': 24.360000000000003}\n",
            "{'sepalLength': 6.1, 'sepalWidth': 3.0, 'petalLength': 4.6, 'petalWidth': 1.4, 'species': 'versicolor', 'sepal_area': 18.299999999999997, 'petal_area': 6.4399999999999995, 'total_area': 24.739999999999995}\n",
            "{'sepalLength': 6.5, 'sepalWidth': 2.8, 'petalLength': 4.6, 'petalWidth': 1.5, 'species': 'versicolor', 'sepal_area': 18.2, 'petal_area': 6.8999999999999995, 'total_area': 25.099999999999998}\n",
            "{'sepalLength': 6.6, 'sepalWidth': 2.9, 'petalLength': 4.6, 'petalWidth': 1.3, 'species': 'versicolor', 'sepal_area': 19.139999999999997, 'petal_area': 5.9799999999999995, 'total_area': 25.119999999999997}\n",
            "{'sepalLength': 6.3, 'sepalWidth': 2.5, 'petalLength': 5.0, 'petalWidth': 1.9, 'species': 'virginica', 'sepal_area': 15.75, 'petal_area': 9.5, 'total_area': 25.25}\n",
            "{'sepalLength': 6.3, 'sepalWidth': 2.8, 'petalLength': 5.1, 'petalWidth': 1.5, 'species': 'virginica', 'sepal_area': 17.639999999999997, 'petal_area': 7.6499999999999995, 'total_area': 25.289999999999996}\n",
            "{'sepalLength': 5.8, 'sepalWidth': 2.7, 'petalLength': 5.1, 'petalWidth': 1.9, 'species': 'virginica', 'sepal_area': 15.66, 'petal_area': 9.69, 'total_area': 25.35}\n",
            "{'sepalLength': 5.8, 'sepalWidth': 2.7, 'petalLength': 5.1, 'petalWidth': 1.9, 'species': 'virginica', 'sepal_area': 15.66, 'petal_area': 9.69, 'total_area': 25.35}\n",
            "{'sepalLength': 5.6, 'sepalWidth': 2.8, 'petalLength': 4.9, 'petalWidth': 2.0, 'species': 'virginica', 'sepal_area': 15.679999999999998, 'petal_area': 9.8, 'total_area': 25.479999999999997}\n",
            "{'sepalLength': 5.7, 'sepalWidth': 4.4, 'petalLength': 1.5, 'petalWidth': 0.4, 'species': 'setosa', 'sepal_area': 25.080000000000002, 'petal_area': 0.6000000000000001, 'total_area': 25.680000000000003}\n",
            "{'sepalLength': 6.8, 'sepalWidth': 2.8, 'petalLength': 4.8, 'petalWidth': 1.4, 'species': 'versicolor', 'sepal_area': 19.04, 'petal_area': 6.72, 'total_area': 25.759999999999998}\n",
            "{'sepalLength': 6.3, 'sepalWidth': 2.7, 'petalLength': 4.9, 'petalWidth': 1.8, 'species': 'virginica', 'sepal_area': 17.01, 'petal_area': 8.82, 'total_area': 25.830000000000002}\n",
            "{'sepalLength': 6.6, 'sepalWidth': 3.0, 'petalLength': 4.4, 'petalWidth': 1.4, 'species': 'versicolor', 'sepal_area': 19.799999999999997, 'petal_area': 6.16, 'total_area': 25.959999999999997}\n",
            "{'sepalLength': 6.2, 'sepalWidth': 2.8, 'petalLength': 4.8, 'petalWidth': 1.8, 'species': 'virginica', 'sepal_area': 17.36, 'petal_area': 8.64, 'total_area': 26.0}\n",
            "{'sepalLength': 6.0, 'sepalWidth': 3.0, 'petalLength': 4.8, 'petalWidth': 1.8, 'species': 'virginica', 'sepal_area': 18.0, 'petal_area': 8.64, 'total_area': 26.64}\n",
            "{'sepalLength': 5.9, 'sepalWidth': 3.0, 'petalLength': 5.1, 'petalWidth': 1.8, 'species': 'virginica', 'sepal_area': 17.700000000000003, 'petal_area': 9.18, 'total_area': 26.880000000000003}\n",
            "{'sepalLength': 6.7, 'sepalWidth': 3.1, 'petalLength': 4.4, 'petalWidth': 1.4, 'species': 'versicolor', 'sepal_area': 20.77, 'petal_area': 6.16, 'total_area': 26.93}\n",
            "{'sepalLength': 6.1, 'sepalWidth': 3.0, 'petalLength': 4.9, 'petalWidth': 1.8, 'species': 'virginica', 'sepal_area': 18.299999999999997, 'petal_area': 8.82, 'total_area': 27.119999999999997}\n",
            "{'sepalLength': 6.7, 'sepalWidth': 2.5, 'petalLength': 5.8, 'petalWidth': 1.8, 'species': 'virginica', 'sepal_area': 16.75, 'petal_area': 10.44, 'total_area': 27.189999999999998}\n",
            "{'sepalLength': 6.4, 'sepalWidth': 3.2, 'petalLength': 4.5, 'petalWidth': 1.5, 'species': 'versicolor', 'sepal_area': 20.480000000000004, 'petal_area': 6.75, 'total_area': 27.230000000000004}\n",
            "{'sepalLength': 6.4, 'sepalWidth': 2.7, 'petalLength': 5.3, 'petalWidth': 1.9, 'species': 'virginica', 'sepal_area': 17.28, 'petal_area': 10.069999999999999, 'total_area': 27.35}\n",
            "{'sepalLength': 5.9, 'sepalWidth': 3.2, 'petalLength': 4.8, 'petalWidth': 1.8, 'species': 'versicolor', 'sepal_area': 18.880000000000003, 'petal_area': 8.64, 'total_area': 27.520000000000003}\n",
            "{'sepalLength': 6.0, 'sepalWidth': 3.4, 'petalLength': 4.5, 'petalWidth': 1.6, 'species': 'versicolor', 'sepal_area': 20.4, 'petal_area': 7.2, 'total_area': 27.599999999999998}\n",
            "{'sepalLength': 6.7, 'sepalWidth': 3.1, 'petalLength': 4.7, 'petalWidth': 1.5, 'species': 'versicolor', 'sepal_area': 20.77, 'petal_area': 7.050000000000001, 'total_area': 27.82}\n",
            "{'sepalLength': 6.3, 'sepalWidth': 3.3, 'petalLength': 4.7, 'petalWidth': 1.6, 'species': 'versicolor', 'sepal_area': 20.79, 'petal_area': 7.5200000000000005, 'total_area': 28.31}\n",
            "{'sepalLength': 6.3, 'sepalWidth': 2.9, 'petalLength': 5.6, 'petalWidth': 1.8, 'species': 'virginica', 'sepal_area': 18.27, 'petal_area': 10.08, 'total_area': 28.35}\n",
            "{'sepalLength': 5.8, 'sepalWidth': 2.8, 'petalLength': 5.1, 'petalWidth': 2.4, 'species': 'virginica', 'sepal_area': 16.24, 'petal_area': 12.239999999999998, 'total_area': 28.479999999999997}\n",
            "{'sepalLength': 6.7, 'sepalWidth': 3.0, 'petalLength': 5.0, 'petalWidth': 1.7, 'species': 'versicolor', 'sepal_area': 20.1, 'petal_area': 8.5, 'total_area': 28.6}\n",
            "{'sepalLength': 6.9, 'sepalWidth': 3.1, 'petalLength': 4.9, 'petalWidth': 1.5, 'species': 'versicolor', 'sepal_area': 21.39, 'petal_area': 7.3500000000000005, 'total_area': 28.740000000000002}\n",
            "{'sepalLength': 7.0, 'sepalWidth': 3.2, 'petalLength': 4.7, 'petalWidth': 1.4, 'species': 'versicolor', 'sepal_area': 22.400000000000002, 'petal_area': 6.58, 'total_area': 28.980000000000004}\n",
            "{'sepalLength': 6.5, 'sepalWidth': 3.0, 'petalLength': 5.5, 'petalWidth': 1.8, 'species': 'virginica', 'sepal_area': 19.5, 'petal_area': 9.9, 'total_area': 29.4}\n",
            "{'sepalLength': 6.4, 'sepalWidth': 2.8, 'petalLength': 5.6, 'petalWidth': 2.1, 'species': 'virginica', 'sepal_area': 17.919999999999998, 'petal_area': 11.76, 'total_area': 29.68}\n",
            "{'sepalLength': 6.4, 'sepalWidth': 3.1, 'petalLength': 5.5, 'petalWidth': 1.8, 'species': 'virginica', 'sepal_area': 19.840000000000003, 'petal_area': 9.9, 'total_area': 29.740000000000002}\n",
            "{'sepalLength': 6.5, 'sepalWidth': 3.0, 'petalLength': 5.2, 'petalWidth': 2.0, 'species': 'virginica', 'sepal_area': 19.5, 'petal_area': 10.4, 'total_area': 29.9}\n",
            "{'sepalLength': 6.4, 'sepalWidth': 2.8, 'petalLength': 5.6, 'petalWidth': 2.2, 'species': 'virginica', 'sepal_area': 17.919999999999998, 'petal_area': 12.32, 'total_area': 30.24}\n",
            "{'sepalLength': 7.2, 'sepalWidth': 3.0, 'petalLength': 5.8, 'petalWidth': 1.6, 'species': 'virginica', 'sepal_area': 21.6, 'petal_area': 9.28, 'total_area': 30.880000000000003}\n",
            "{'sepalLength': 6.5, 'sepalWidth': 3.2, 'petalLength': 5.1, 'petalWidth': 2.0, 'species': 'virginica', 'sepal_area': 20.8, 'petal_area': 10.2, 'total_area': 31.0}\n",
            "{'sepalLength': 6.8, 'sepalWidth': 3.0, 'petalLength': 5.5, 'petalWidth': 2.1, 'species': 'virginica', 'sepal_area': 20.4, 'petal_area': 11.55, 'total_area': 31.95}\n",
            "{'sepalLength': 6.7, 'sepalWidth': 3.0, 'petalLength': 5.2, 'petalWidth': 2.3, 'species': 'virginica', 'sepal_area': 20.1, 'petal_area': 11.959999999999999, 'total_area': 32.06}\n",
            "{'sepalLength': 6.5, 'sepalWidth': 3.0, 'petalLength': 5.8, 'petalWidth': 2.2, 'species': 'virginica', 'sepal_area': 19.5, 'petal_area': 12.76, 'total_area': 32.26}\n",
            "{'sepalLength': 7.4, 'sepalWidth': 2.8, 'petalLength': 6.1, 'petalWidth': 1.9, 'species': 'virginica', 'sepal_area': 20.72, 'petal_area': 11.589999999999998, 'total_area': 32.309999999999995}\n",
            "{'sepalLength': 7.3, 'sepalWidth': 2.9, 'petalLength': 6.3, 'petalWidth': 1.8, 'species': 'virginica', 'sepal_area': 21.169999999999998, 'petal_area': 11.34, 'total_area': 32.51}\n",
            "{'sepalLength': 6.4, 'sepalWidth': 3.2, 'petalLength': 5.3, 'petalWidth': 2.3, 'species': 'virginica', 'sepal_area': 20.480000000000004, 'petal_area': 12.19, 'total_area': 32.67}\n",
            "{'sepalLength': 6.9, 'sepalWidth': 3.1, 'petalLength': 5.4, 'petalWidth': 2.1, 'species': 'virginica', 'sepal_area': 21.39, 'petal_area': 11.340000000000002, 'total_area': 32.730000000000004}\n",
            "{'sepalLength': 6.9, 'sepalWidth': 3.1, 'petalLength': 5.1, 'petalWidth': 2.3, 'species': 'virginica', 'sepal_area': 21.39, 'petal_area': 11.729999999999999, 'total_area': 33.12}\n",
            "{'sepalLength': 6.2, 'sepalWidth': 3.4, 'petalLength': 5.4, 'petalWidth': 2.3, 'species': 'virginica', 'sepal_area': 21.08, 'petal_area': 12.42, 'total_area': 33.5}\n",
            "{'sepalLength': 7.1, 'sepalWidth': 3.0, 'petalLength': 5.9, 'petalWidth': 2.1, 'species': 'virginica', 'sepal_area': 21.299999999999997, 'petal_area': 12.39, 'total_area': 33.69}\n",
            "{'sepalLength': 7.2, 'sepalWidth': 3.2, 'petalLength': 6.0, 'petalWidth': 1.8, 'species': 'virginica', 'sepal_area': 23.040000000000003, 'petal_area': 10.8, 'total_area': 33.84}\n",
            "{'sepalLength': 6.7, 'sepalWidth': 3.3, 'petalLength': 5.7, 'petalWidth': 2.1, 'species': 'virginica', 'sepal_area': 22.11, 'petal_area': 11.97, 'total_area': 34.08}\n",
            "{'sepalLength': 6.7, 'sepalWidth': 3.1, 'petalLength': 5.6, 'petalWidth': 2.4, 'species': 'virginica', 'sepal_area': 20.77, 'petal_area': 13.44, 'total_area': 34.21}\n",
            "{'sepalLength': 6.3, 'sepalWidth': 3.4, 'petalLength': 5.6, 'petalWidth': 2.4, 'species': 'virginica', 'sepal_area': 21.419999999999998, 'petal_area': 13.44, 'total_area': 34.86}\n",
            "{'sepalLength': 7.7, 'sepalWidth': 2.8, 'petalLength': 6.7, 'petalWidth': 2.0, 'species': 'virginica', 'sepal_area': 21.56, 'petal_area': 13.4, 'total_area': 34.96}\n",
            "{'sepalLength': 6.9, 'sepalWidth': 3.2, 'petalLength': 5.7, 'petalWidth': 2.3, 'species': 'virginica', 'sepal_area': 22.080000000000002, 'petal_area': 13.11, 'total_area': 35.19}\n",
            "{'sepalLength': 6.8, 'sepalWidth': 3.2, 'petalLength': 5.9, 'petalWidth': 2.3, 'species': 'virginica', 'sepal_area': 21.76, 'petal_area': 13.57, 'total_area': 35.33}\n",
            "{'sepalLength': 6.3, 'sepalWidth': 3.3, 'petalLength': 6.0, 'petalWidth': 2.5, 'species': 'virginica', 'sepal_area': 20.79, 'petal_area': 15.0, 'total_area': 35.79}\n",
            "{'sepalLength': 7.7, 'sepalWidth': 2.6, 'petalLength': 6.9, 'petalWidth': 2.3, 'species': 'virginica', 'sepal_area': 20.02, 'petal_area': 15.87, 'total_area': 35.89}\n",
            "{'sepalLength': 6.7, 'sepalWidth': 3.3, 'petalLength': 5.7, 'petalWidth': 2.5, 'species': 'virginica', 'sepal_area': 22.11, 'petal_area': 14.25, 'total_area': 36.36}\n",
            "{'sepalLength': 7.6, 'sepalWidth': 3.0, 'petalLength': 6.6, 'petalWidth': 2.1, 'species': 'virginica', 'sepal_area': 22.799999999999997, 'petal_area': 13.86, 'total_area': 36.66}\n",
            "{'sepalLength': 7.7, 'sepalWidth': 3.0, 'petalLength': 6.1, 'petalWidth': 2.3, 'species': 'virginica', 'sepal_area': 23.1, 'petal_area': 14.029999999999998, 'total_area': 37.129999999999995}\n",
            "{'sepalLength': 7.2, 'sepalWidth': 3.6, 'petalLength': 6.1, 'petalWidth': 2.5, 'species': 'virginica', 'sepal_area': 25.92, 'petal_area': 15.25, 'total_area': 41.17}\n",
            "{'sepalLength': 7.9, 'sepalWidth': 3.8, 'petalLength': 6.4, 'petalWidth': 2.0, 'species': 'virginica', 'sepal_area': 30.02, 'petal_area': 12.8, 'total_area': 42.82}\n",
            "{'sepalLength': 7.7, 'sepalWidth': 3.8, 'petalLength': 6.7, 'petalWidth': 2.2, 'species': 'virginica', 'sepal_area': 29.259999999999998, 'petal_area': 14.740000000000002, 'total_area': 44.0}\n"
          ]
        }
      ]
    }
  ]
}