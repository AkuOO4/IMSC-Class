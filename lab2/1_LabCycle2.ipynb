{
  "nbformat": 4,
  "nbformat_minor": 0,
  "metadata": {
    "colab": {
      "name": "1_LabCycle2.ipynb",
      "provenance": [],
      "collapsed_sections": [],
      "authorship_tag": "ABX9TyMCj3Uk0mX83V4CbPzYQIHE",
      "include_colab_link": true
    },
    "kernelspec": {
      "name": "python3",
      "display_name": "Python 3"
    },
    "language_info": {
      "name": "python"
    }
  },
  "cells": [
    {
      "cell_type": "markdown",
      "metadata": {
        "id": "view-in-github",
        "colab_type": "text"
      },
      "source": [
        "<a href=\"https://colab.research.google.com/github/AkuOO4/python-lab/blob/main/lab2/1_LabCycle2.ipynb\" target=\"_parent\"><img src=\"https://colab.research.google.com/assets/colab-badge.svg\" alt=\"Open In Colab\"/></a>"
      ]
    },
    {
      "cell_type": "markdown",
      "source": [
        "1. Suppose a newly born pair of rabbits, one male and one female, are \n",
        "put in a field. Rabbits can mate at the age of one month so that at the \n",
        "end of its second month, a female has produced another pair of \n",
        "rabbits. Suppose that our rabbits never die and that the female always \n",
        "produces one new pair every month from the second month.\n",
        "Develop a program to show a table containing the number of pairs of \n",
        "rabbits in the first N months."
      ],
      "metadata": {
        "id": "0PCJHgRLrX-f"
      }
    },
    {
      "cell_type": "code",
      "execution_count": null,
      "metadata": {
        "id": "5jn5dkE0qUN5",
        "colab": {
          "base_uri": "https://localhost:8080/"
        },
        "outputId": "074e164b-9fc1-46e3-e769-23a998cb22b9"
      },
      "outputs": [
        {
          "output_type": "stream",
          "name": "stdout",
          "text": [
            "Enter the month, to find out the number of rabbits: 9\n",
            "  Month   |    Pairs\n",
            "--------------------\n",
            "   1      |     1\n",
            "   2      |     1\n",
            "   3      |     2\n",
            "   4      |     3\n",
            "   5      |     5\n",
            "   6      |     8\n",
            "   7      |     13\n",
            "   8      |     21\n",
            "   9      |     34\n"
          ]
        }
      ],
      "source": [
        "n=int(input(\"Enter the month, to find out the number of rabbits: \"))\n",
        "m1=0\n",
        "m2=1\n",
        "print(\"  Month   |    Pairs\")\n",
        "print(\"--------------------\")\n",
        "for i in range(n):\n",
        "  temp=m2\n",
        "  m2+=m1\n",
        "  m1=temp \n",
        "  print(\"  \",i+1,\"     |    \",m1)"
      ]
    }
  ]
}