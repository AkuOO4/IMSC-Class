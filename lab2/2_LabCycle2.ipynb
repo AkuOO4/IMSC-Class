{
  "nbformat": 4,
  "nbformat_minor": 0,
  "metadata": {
    "colab": {
      "name": "2_LabCycle2.ipynb",
      "provenance": [],
      "collapsed_sections": [],
      "authorship_tag": "ABX9TyMaaLvGJVk5K6uRG/cxp6rS",
      "include_colab_link": true
    },
    "kernelspec": {
      "name": "python3",
      "display_name": "Python 3"
    },
    "language_info": {
      "name": "python"
    }
  },
  "cells": [
    {
      "cell_type": "markdown",
      "metadata": {
        "id": "view-in-github",
        "colab_type": "text"
      },
      "source": [
        "<a href=\"https://colab.research.google.com/github/AkuOO4/python-lab/blob/main/lab2/2_LabCycle2.ipynb\" target=\"_parent\"><img src=\"https://colab.research.google.com/assets/colab-badge.svg\" alt=\"Open In Colab\"/></a>"
      ]
    },
    {
      "cell_type": "markdown",
      "source": [
        "2. Write a program to read a string containing numbers separated by a \n",
        "space and convert it as a list of integers. Perform the following \n",
        "operations on it.\n",
        " 1. Rotate elements in a list by 'k' position to the right\n",
        " 2. Convert the list into a tuple using list comprehension\n",
        " 3. Remove all duplicates from the tuple and convert them \n",
        "into a list again.\n",
        " 4. Create another list by putting the results of the evaluation \n",
        "of the function 𝑓(𝑥) = (𝑥^2 – 𝑥) with each element in the \n",
        "final list\n",
        " 5. After sorting them individually, merge the two lists to \n",
        "create a single sorted list."
      ],
      "metadata": {
        "id": "7FSmwetnMQ-F"
      }
    },
    {
      "cell_type": "code",
      "execution_count": null,
      "metadata": {
        "colab": {
          "base_uri": "https://localhost:8080/"
        },
        "id": "CCx1D3ywMGz-",
        "outputId": "1fdda1e3-ed6f-4648-d196-45f3eb5ea5a2"
      },
      "outputs": [
        {
          "output_type": "stream",
          "name": "stdout",
          "text": [
            "[11, 12, 11, 3, 4, 5, 6, 7, 8, 9, 10]\n"
          ]
        }
      ],
      "source": [
        "str1=\"11 12 11 3 4 5 6 7 8 9 10\"\n",
        "len1=len(str1)\n",
        "lst=[]\n",
        "i=0\n",
        "while i<len1:\n",
        "  num=0\n",
        "  while str1[i]!=\" \":     #for getting 2&more digit numbers\n",
        "    num=num*10+int(str1[i])\n",
        "    i+=1\n",
        "    if i==len1:\n",
        "      break\n",
        "  i+=1\n",
        "  lst.append(num)\n",
        "print(lst)"
      ]
    },
    {
      "cell_type": "code",
      "source": [
        "# Rotating k postions\n",
        "k=int(input(\"enter the number postion you want to shift: \"))\n",
        "while k>0:\n",
        "  lst.insert(0,lst[-1])\n",
        "  lst.pop()\n",
        "  k-=1\n",
        "print(lst)"
      ],
      "metadata": {
        "colab": {
          "base_uri": "https://localhost:8080/"
        },
        "id": "EDMkvaVbnls9",
        "outputId": "b9c63390-3af0-429e-ae3a-18478021e978"
      },
      "execution_count": null,
      "outputs": [
        {
          "output_type": "stream",
          "name": "stdout",
          "text": [
            "enter the number postion you want to shift: 3\n",
            "[8, 9, 10, 11, 12, 11, 3, 4, 5, 6, 7]\n"
          ]
        }
      ]
    },
    {
      "cell_type": "code",
      "source": [
        "# Tuple Conversion\n",
        "tup=tuple(lst)\n",
        "print(tup)\n",
        "print(type(tup))"
      ],
      "metadata": {
        "colab": {
          "base_uri": "https://localhost:8080/"
        },
        "id": "83CEHHju1NyX",
        "outputId": "4ff9e1dc-3677-468a-f847-f3d09d0ecbd1"
      },
      "execution_count": null,
      "outputs": [
        {
          "output_type": "stream",
          "name": "stdout",
          "text": [
            "(8, 9, 10, 11, 12, 11, 3, 4, 5, 6, 7)\n",
            "<class 'tuple'>\n"
          ]
        }
      ]
    },
    {
      "cell_type": "code",
      "source": [
        "# Removing duplications\n",
        "unify=set(tup)\n",
        "lst=list(unify)\n",
        "print(lst)"
      ],
      "metadata": {
        "colab": {
          "base_uri": "https://localhost:8080/"
        },
        "id": "1vcWAbIy2yOK",
        "outputId": "47ce3af7-406f-457f-c030-4e63f677d241"
      },
      "execution_count": null,
      "outputs": [
        {
          "output_type": "stream",
          "name": "stdout",
          "text": [
            "[3, 4, 5, 6, 7, 8, 9, 10, 11, 12]\n"
          ]
        }
      ]
    },
    {
      "cell_type": "code",
      "source": [
        "# Points of f(x)=x^2-x\n",
        "n=int(input(\"input enter the element to p\"))\n",
        "y=[]\n",
        "for x in range(n+1):\n",
        "  y.append(x**2-x)\n"
      ],
      "metadata": {
        "colab": {
          "base_uri": "https://localhost:8080/"
        },
        "id": "ItwP78PES_2y",
        "outputId": "39f5a950-0f5f-4849-80dd-9497b545fef2"
      },
      "execution_count": null,
      "outputs": [
        {
          "name": "stdout",
          "output_type": "stream",
          "text": [
            "input enter the element to p5\n"
          ]
        }
      ]
    },
    {
      "cell_type": "code",
      "source": [
        "# Sorting and Merging\n",
        "lst.sort()\n",
        "y.sort()\n",
        "new_list=lst+y\n",
        "new_list.sort()\n",
        "print(new_list)"
      ],
      "metadata": {
        "colab": {
          "base_uri": "https://localhost:8080/"
        },
        "id": "etwrB1nwIZbA",
        "outputId": "ed4eeb01-2c8f-45cb-b033-3079182ab1a4"
      },
      "execution_count": null,
      "outputs": [
        {
          "output_type": "stream",
          "name": "stdout",
          "text": [
            "[0, 0, 2, 3, 4, 5, 6, 6, 7, 8, 9, 10, 11, 12, 12, 20]\n"
          ]
        }
      ]
    }
  ]
}